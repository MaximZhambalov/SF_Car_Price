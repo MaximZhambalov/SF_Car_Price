{
 "cells": [
  {
   "cell_type": "markdown",
   "metadata": {},
   "source": [
    "***\n",
    "### Библиотеки, служебные функции и переменные"
   ]
  },
  {
   "cell_type": "code",
   "execution_count": 1,
   "metadata": {},
   "outputs": [],
   "source": [
    "import warnings \n",
    "warnings.filterwarnings(\"ignore\")"
   ]
  },
  {
   "cell_type": "code",
   "execution_count": 2,
   "metadata": {},
   "outputs": [],
   "source": [
    "import pandas as pd\n",
    "import seaborn as sns\n",
    "import matplotlib.pyplot as plt\n",
    "\n",
    "from sklearn.metrics import mean_absolute_error\n",
    "\n",
    "import category_encoders as ce\n",
    "\n",
    "from sklearn.preprocessing import OneHotEncoder\n",
    "from sklearn.model_selection import train_test_split\n",
    "\n",
    "from catboost import CatBoostRegressor"
   ]
  },
  {
   "cell_type": "code",
   "execution_count": 3,
   "metadata": {},
   "outputs": [],
   "source": [
    "random_state = 100\n",
    "current_year = 2020"
   ]
  },
  {
   "cell_type": "code",
   "execution_count": 4,
   "metadata": {},
   "outputs": [],
   "source": [
    "# Функция для проверки корреляции.\n",
    "# Принимает на вход корреляционную матрицу и целевой признак. В качестве доп. параметров есть предел\n",
    "# по корреляционному коэф-ту 'thresh' и порядок округления 'digits'\n",
    "# Возвращает датафрейм, где в 1-м столбце - пара коррелирующих признаков со значением корреляции,\n",
    "# а во 2-м и 3-м - значения корреляции каждого из двух признаков с целевым\n",
    "\n",
    "def corr_matrix_check(corr_matrix, target, thresh=0.85):\n",
    "    cols_to_drop_corr = {'pair':[], 'corr_with_target_1':[], 'corr_with_target_2':[]}\n",
    "    for i, ind in enumerate(corr_matrix.index):\n",
    "        cols = list(corr_matrix.columns)[i:]\n",
    "        cols.remove(ind)\n",
    "        for col in cols:\n",
    "            corr = abs(corr_matrix.loc[ind, col])\n",
    "            if corr > thresh:\n",
    "                cols_to_drop_corr['pair'].append(col + '-' + ind + '=' + str(corr))\n",
    "                cols_to_drop_corr['corr_with_target_1'].append(col + '=' + str(corr_matrix.loc[col, target]))\n",
    "                cols_to_drop_corr['corr_with_target_2'].append(ind + '=' + str(corr_matrix.loc[ind, target]))\n",
    "    return pd.DataFrame.from_dict(cols_to_drop_corr, orient='columns')"
   ]
  },
  {
   "cell_type": "markdown",
   "metadata": {},
   "source": [
    "***\n",
    "### Чтение данных"
   ]
  },
  {
   "cell_type": "markdown",
   "metadata": {},
   "source": [
    "Прочитаем наш датафрейм:"
   ]
  },
  {
   "cell_type": "code",
   "execution_count": 5,
   "metadata": {},
   "outputs": [
    {
     "data": {
      "text/html": [
       "<div>\n",
       "<style scoped>\n",
       "    .dataframe tbody tr th:only-of-type {\n",
       "        vertical-align: middle;\n",
       "    }\n",
       "\n",
       "    .dataframe tbody tr th {\n",
       "        vertical-align: top;\n",
       "    }\n",
       "\n",
       "    .dataframe thead th {\n",
       "        text-align: right;\n",
       "    }\n",
       "</style>\n",
       "<table border=\"1\" class=\"dataframe\">\n",
       "  <thead>\n",
       "    <tr style=\"text-align: right;\">\n",
       "      <th></th>\n",
       "      <th>row_ID</th>\n",
       "      <th>vehicle_manufacturer</th>\n",
       "      <th>vehicle_model</th>\n",
       "      <th>vehicle_category</th>\n",
       "      <th>current_mileage</th>\n",
       "      <th>vehicle_year</th>\n",
       "      <th>vehicle_gearbox_type</th>\n",
       "      <th>doors_cnt</th>\n",
       "      <th>wheels</th>\n",
       "      <th>vehicle_color</th>\n",
       "      <th>vehicle_interior_color</th>\n",
       "      <th>car_vin</th>\n",
       "      <th>car_leather_interior</th>\n",
       "      <th>deal_type</th>\n",
       "      <th>final_price</th>\n",
       "    </tr>\n",
       "  </thead>\n",
       "  <tbody>\n",
       "    <tr>\n",
       "      <th>0</th>\n",
       "      <td>0</td>\n",
       "      <td>TOYOTA</td>\n",
       "      <td>Aqua s</td>\n",
       "      <td>Sedan</td>\n",
       "      <td>133000</td>\n",
       "      <td>2014</td>\n",
       "      <td>Automatic</td>\n",
       "      <td>4/5</td>\n",
       "      <td>Right-hand drive</td>\n",
       "      <td>Silver</td>\n",
       "      <td>Black</td>\n",
       "      <td>NaN</td>\n",
       "      <td>0</td>\n",
       "      <td>For Sale</td>\n",
       "      <td>3650.0</td>\n",
       "    </tr>\n",
       "    <tr>\n",
       "      <th>1</th>\n",
       "      <td>1</td>\n",
       "      <td>MERCEDES-BENZ</td>\n",
       "      <td>C 220</td>\n",
       "      <td>Sedan</td>\n",
       "      <td>24500</td>\n",
       "      <td>2010</td>\n",
       "      <td>Manual</td>\n",
       "      <td>4/5</td>\n",
       "      <td>Left wheel</td>\n",
       "      <td>Silver</td>\n",
       "      <td>Black</td>\n",
       "      <td>NaN</td>\n",
       "      <td>0</td>\n",
       "      <td>For Sale</td>\n",
       "      <td>6800.0</td>\n",
       "    </tr>\n",
       "    <tr>\n",
       "      <th>2</th>\n",
       "      <td>2</td>\n",
       "      <td>HYUNDAI</td>\n",
       "      <td>Veloster</td>\n",
       "      <td>Hatchback</td>\n",
       "      <td>31000</td>\n",
       "      <td>2016</td>\n",
       "      <td>Tiptronic</td>\n",
       "      <td>2/3</td>\n",
       "      <td>Left wheel</td>\n",
       "      <td>Silver</td>\n",
       "      <td>Black</td>\n",
       "      <td>KMHTC6AE3GU293912</td>\n",
       "      <td>1</td>\n",
       "      <td>For Sale</td>\n",
       "      <td>6300.0</td>\n",
       "    </tr>\n",
       "    <tr>\n",
       "      <th>3</th>\n",
       "      <td>3</td>\n",
       "      <td>HYUNDAI</td>\n",
       "      <td>Santa FE</td>\n",
       "      <td>Jeep</td>\n",
       "      <td>115459</td>\n",
       "      <td>2015</td>\n",
       "      <td>Automatic</td>\n",
       "      <td>4/5</td>\n",
       "      <td>Left wheel</td>\n",
       "      <td>Blue</td>\n",
       "      <td>Black</td>\n",
       "      <td>NaN</td>\n",
       "      <td>1</td>\n",
       "      <td>For Sale</td>\n",
       "      <td>14488.0</td>\n",
       "    </tr>\n",
       "    <tr>\n",
       "      <th>4</th>\n",
       "      <td>4</td>\n",
       "      <td>TOYOTA</td>\n",
       "      <td>CHR</td>\n",
       "      <td>Jeep</td>\n",
       "      <td>18950</td>\n",
       "      <td>2019</td>\n",
       "      <td>Automatic</td>\n",
       "      <td>4/5</td>\n",
       "      <td>Left wheel</td>\n",
       "      <td>Black</td>\n",
       "      <td>NaN</td>\n",
       "      <td>JTNKHMBX7K1030253</td>\n",
       "      <td>1</td>\n",
       "      <td>For Sale</td>\n",
       "      <td>5000.0</td>\n",
       "    </tr>\n",
       "  </tbody>\n",
       "</table>\n",
       "</div>"
      ],
      "text/plain": [
       "   row_ID vehicle_manufacturer vehicle_model vehicle_category  \\\n",
       "0       0               TOYOTA        Aqua s            Sedan   \n",
       "1       1        MERCEDES-BENZ         C 220            Sedan   \n",
       "2       2              HYUNDAI      Veloster        Hatchback   \n",
       "3       3              HYUNDAI      Santa FE             Jeep   \n",
       "4       4               TOYOTA           CHR             Jeep   \n",
       "\n",
       "   current_mileage  vehicle_year vehicle_gearbox_type doors_cnt  \\\n",
       "0           133000          2014            Automatic       4/5   \n",
       "1            24500          2010               Manual       4/5   \n",
       "2            31000          2016            Tiptronic       2/3   \n",
       "3           115459          2015            Automatic       4/5   \n",
       "4            18950          2019            Automatic       4/5   \n",
       "\n",
       "                  wheels vehicle_color vehicle_interior_color  \\\n",
       "0    Right-hand drive          Silver                  Black    \n",
       "1           Left wheel         Silver                  Black    \n",
       "2           Left wheel         Silver                  Black    \n",
       "3           Left wheel           Blue                  Black    \n",
       "4           Left wheel          Black                     NaN   \n",
       "\n",
       "               car_vin  car_leather_interior deal_type  final_price  \n",
       "0                  NaN                     0  For Sale       3650.0  \n",
       "1                  NaN                     0  For Sale       6800.0  \n",
       "2   KMHTC6AE3GU293912                      1  For Sale       6300.0  \n",
       "3                  NaN                     1  For Sale      14488.0  \n",
       "4   JTNKHMBX7K1030253                      1  For Sale       5000.0  "
      ]
     },
     "execution_count": 5,
     "metadata": {},
     "output_type": "execute_result"
    }
   ],
   "source": [
    "df = pd.read_csv('data/train_data.csv')\n",
    "df.head()"
   ]
  },
  {
   "cell_type": "code",
   "execution_count": 6,
   "metadata": {},
   "outputs": [
    {
     "name": "stdout",
     "output_type": "stream",
     "text": [
      "<class 'pandas.core.frame.DataFrame'>\n",
      "RangeIndex: 35000 entries, 0 to 34999\n",
      "Data columns (total 15 columns):\n",
      " #   Column                  Non-Null Count  Dtype  \n",
      "---  ------                  --------------  -----  \n",
      " 0   row_ID                  35000 non-null  int64  \n",
      " 1   vehicle_manufacturer    34999 non-null  object \n",
      " 2   vehicle_model           34993 non-null  object \n",
      " 3   vehicle_category        34999 non-null  object \n",
      " 4   current_mileage         35000 non-null  int64  \n",
      " 5   vehicle_year            35000 non-null  int64  \n",
      " 6   vehicle_gearbox_type    34999 non-null  object \n",
      " 7   doors_cnt               34255 non-null  object \n",
      " 8   wheels                  34999 non-null  object \n",
      " 9   vehicle_color           34599 non-null  object \n",
      " 10  vehicle_interior_color  28282 non-null  object \n",
      " 11  car_vin                 11488 non-null  object \n",
      " 12  car_leather_interior    35000 non-null  int64  \n",
      " 13  deal_type               35000 non-null  object \n",
      " 14  final_price             35000 non-null  float64\n",
      "dtypes: float64(1), int64(4), object(10)\n",
      "memory usage: 4.0+ MB\n"
     ]
    }
   ],
   "source": [
    "df.info()"
   ]
  },
  {
   "cell_type": "markdown",
   "metadata": {},
   "source": [
    "***\n",
    "### Предобработка данных. Дубликаты и пропуски."
   ]
  },
  {
   "cell_type": "markdown",
   "metadata": {},
   "source": [
    "Проверим на дубликаты:"
   ]
  },
  {
   "cell_type": "code",
   "execution_count": 7,
   "metadata": {},
   "outputs": [
    {
     "name": "stdout",
     "output_type": "stream",
     "text": [
      "Число найденных дубликатов: 0\n"
     ]
    }
   ],
   "source": [
    "mask = df.duplicated(subset=list(df.columns))\n",
    "print(f'Число найденных дубликатов: {df[mask].shape[0]}')"
   ]
  },
  {
   "cell_type": "markdown",
   "metadata": {},
   "source": [
    "Посмотрим на пропуски:"
   ]
  },
  {
   "cell_type": "code",
   "execution_count": 8,
   "metadata": {},
   "outputs": [
    {
     "data": {
      "text/plain": [
       "car_vin                   23512\n",
       "vehicle_interior_color     6718\n",
       "doors_cnt                   745\n",
       "vehicle_color               401\n",
       "vehicle_model                 7\n",
       "vehicle_manufacturer          1\n",
       "vehicle_category              1\n",
       "vehicle_gearbox_type          1\n",
       "wheels                        1\n",
       "row_ID                        0\n",
       "current_mileage               0\n",
       "vehicle_year                  0\n",
       "car_leather_interior          0\n",
       "deal_type                     0\n",
       "final_price                   0\n",
       "dtype: int64"
      ]
     },
     "execution_count": 8,
     "metadata": {},
     "output_type": "execute_result"
    }
   ],
   "source": [
    "df.isna().sum().sort_values(ascending=False)"
   ]
  },
  {
   "cell_type": "markdown",
   "metadata": {},
   "source": [
    "Можно увидеть, что пропуск в признаках ***vehicle_manufacturer***, ***vehicle_category***, ***vehicle_gearbox_type*** и ***wheels*** - это одна единственная запись:"
   ]
  },
  {
   "cell_type": "code",
   "execution_count": 9,
   "metadata": {},
   "outputs": [
    {
     "data": {
      "text/html": [
       "<div>\n",
       "<style scoped>\n",
       "    .dataframe tbody tr th:only-of-type {\n",
       "        vertical-align: middle;\n",
       "    }\n",
       "\n",
       "    .dataframe tbody tr th {\n",
       "        vertical-align: top;\n",
       "    }\n",
       "\n",
       "    .dataframe thead th {\n",
       "        text-align: right;\n",
       "    }\n",
       "</style>\n",
       "<table border=\"1\" class=\"dataframe\">\n",
       "  <thead>\n",
       "    <tr style=\"text-align: right;\">\n",
       "      <th></th>\n",
       "      <th>row_ID</th>\n",
       "      <th>vehicle_manufacturer</th>\n",
       "      <th>vehicle_model</th>\n",
       "      <th>vehicle_category</th>\n",
       "      <th>current_mileage</th>\n",
       "      <th>vehicle_year</th>\n",
       "      <th>vehicle_gearbox_type</th>\n",
       "      <th>doors_cnt</th>\n",
       "      <th>wheels</th>\n",
       "      <th>vehicle_color</th>\n",
       "      <th>vehicle_interior_color</th>\n",
       "      <th>car_vin</th>\n",
       "      <th>car_leather_interior</th>\n",
       "      <th>deal_type</th>\n",
       "      <th>final_price</th>\n",
       "    </tr>\n",
       "  </thead>\n",
       "  <tbody>\n",
       "    <tr>\n",
       "      <th>17918</th>\n",
       "      <td>17918</td>\n",
       "      <td>NaN</td>\n",
       "      <td>NaN</td>\n",
       "      <td>NaN</td>\n",
       "      <td>0</td>\n",
       "      <td>0</td>\n",
       "      <td>NaN</td>\n",
       "      <td>NaN</td>\n",
       "      <td>NaN</td>\n",
       "      <td>NaN</td>\n",
       "      <td>NaN</td>\n",
       "      <td>NaN</td>\n",
       "      <td>0</td>\n",
       "      <td>For Sale</td>\n",
       "      <td>0.0</td>\n",
       "    </tr>\n",
       "  </tbody>\n",
       "</table>\n",
       "</div>"
      ],
      "text/plain": [
       "       row_ID vehicle_manufacturer vehicle_model vehicle_category  \\\n",
       "17918   17918                  NaN           NaN              NaN   \n",
       "\n",
       "       current_mileage  vehicle_year vehicle_gearbox_type doors_cnt wheels  \\\n",
       "17918                0             0                  NaN       NaN    NaN   \n",
       "\n",
       "      vehicle_color vehicle_interior_color car_vin  car_leather_interior  \\\n",
       "17918           NaN                    NaN     NaN                     0   \n",
       "\n",
       "      deal_type  final_price  \n",
       "17918  For Sale          0.0  "
      ]
     },
     "execution_count": 9,
     "metadata": {},
     "output_type": "execute_result"
    }
   ],
   "source": [
    "df[df.wheels.isna()]"
   ]
  },
  {
   "cell_type": "markdown",
   "metadata": {},
   "source": [
    "Удалим её, а также столбец ***row_ID***:"
   ]
  },
  {
   "cell_type": "code",
   "execution_count": 10,
   "metadata": {},
   "outputs": [],
   "source": [
    "df = df.drop('row_ID', axis=1)\n",
    "df = df.dropna(subset='wheels')"
   ]
  },
  {
   "cell_type": "markdown",
   "metadata": {},
   "source": [
    "Поглядим на пропуски ещё раз, теперь в процентах:"
   ]
  },
  {
   "cell_type": "code",
   "execution_count": 11,
   "metadata": {},
   "outputs": [
    {
     "data": {
      "text/plain": [
       "car_vin                   67.176205\n",
       "vehicle_interior_color    19.191977\n",
       "doors_cnt                  2.125775\n",
       "vehicle_color              1.142890\n",
       "vehicle_model              0.017143\n",
       "vehicle_manufacturer       0.000000\n",
       "vehicle_category           0.000000\n",
       "current_mileage            0.000000\n",
       "vehicle_year               0.000000\n",
       "vehicle_gearbox_type       0.000000\n",
       "wheels                     0.000000\n",
       "car_leather_interior       0.000000\n",
       "deal_type                  0.000000\n",
       "final_price                0.000000\n",
       "dtype: float64"
      ]
     },
     "execution_count": 11,
     "metadata": {},
     "output_type": "execute_result"
    }
   ],
   "source": [
    "df.isna().mean().sort_values(ascending=False) * 100"
   ]
  },
  {
   "cell_type": "markdown",
   "metadata": {},
   "source": [
    "Посмотрим на уникальные значения признака ***vehicle_interior_color***:"
   ]
  },
  {
   "cell_type": "code",
   "execution_count": 12,
   "metadata": {},
   "outputs": [
    {
     "data": {
      "text/plain": [
       "array(['Black', nan, 'Grey', 'Brown', 'Beige', 'Red', 'Yellow', 'White',\n",
       "       'Orange', 'Blue', 'Golden', 'Carnelian red'], dtype=object)"
      ]
     },
     "execution_count": 12,
     "metadata": {},
     "output_type": "execute_result"
    }
   ],
   "source": [
    "# уберём ненужные пробелы\n",
    "df['vehicle_interior_color'] = df['vehicle_interior_color'].str.strip()\n",
    "df.vehicle_interior_color.unique()"
   ]
  },
  {
   "cell_type": "markdown",
   "metadata": {},
   "source": [
    "Упростим категории цвета, а пропускам присвоим значение *Unknown*:"
   ]
  },
  {
   "cell_type": "code",
   "execution_count": 13,
   "metadata": {},
   "outputs": [],
   "source": [
    "color_dict_interior = {\n",
    "    'Red':['Red', 'Orange', 'Carnelian red'],\n",
    "    'Brown':['Brown', 'Beige'],\n",
    "    'Yellow':['Yellow', 'Golden']\n",
    "}\n",
    "for k, v in color_dict_interior.items():\n",
    "    df['vehicle_interior_color'] = df['vehicle_interior_color'].map(lambda x: k if x in v else x)\n",
    "\n",
    "df['vehicle_interior_color'] = df['vehicle_interior_color'].fillna('Unknown')"
   ]
  },
  {
   "cell_type": "markdown",
   "metadata": {},
   "source": [
    "Теперь посмотрим на уникальные значения признака ***vehicle_color***:"
   ]
  },
  {
   "cell_type": "code",
   "execution_count": 14,
   "metadata": {},
   "outputs": [
    {
     "data": {
      "text/plain": [
       "array(['Silver', 'Blue', 'Black', 'White', 'Grey', 'Red', nan, 'Brown',\n",
       "       'Green', 'Carnelian red', 'Beige', 'Sky blue', 'Golden', 'Yellow',\n",
       "       'Purple', 'Orange', 'Pink'], dtype=object)"
      ]
     },
     "execution_count": 14,
     "metadata": {},
     "output_type": "execute_result"
    }
   ],
   "source": [
    "# уберём ненужные пробелы\n",
    "df['vehicle_color'] = df['vehicle_color'].str.strip()\n",
    "df.vehicle_color.unique()"
   ]
  },
  {
   "cell_type": "markdown",
   "metadata": {},
   "source": [
    "Упростим категории цвета, а пропускам присвоим значение *Unknown*:"
   ]
  },
  {
   "cell_type": "code",
   "execution_count": 15,
   "metadata": {},
   "outputs": [],
   "source": [
    "color_dict_vehicle = {\n",
    "    'Red':['Red', 'Orange', 'Carnelian red'],\n",
    "    'Blue':['Blue', 'Sky blue'],\n",
    "    'Brown':['Brown', 'Beige'],\n",
    "    'Yellow':['Yellow', 'Golden']\n",
    "}\n",
    "for k, v in color_dict_vehicle.items():\n",
    "    df['vehicle_color'] = df['vehicle_color'].map(lambda x: k if x in v else x)\n",
    "\n",
    "df['vehicle_color'] = df['vehicle_color'].fillna('Unknown')"
   ]
  },
  {
   "cell_type": "markdown",
   "metadata": {},
   "source": [
    "Теперь разберёмся с количеством дверей. Сделаем так: выясним модели автомобилей, у которых в признаке ***doors_cnt*** пропуски, затем возьмём те же модели из датасета, где количество дверей указано, и подставим на место пропусков:"
   ]
  },
  {
   "cell_type": "code",
   "execution_count": 16,
   "metadata": {},
   "outputs": [],
   "source": [
    "# сначала переведём названия в нижний регистр\n",
    "df['vehicle_model'] = df['vehicle_model'].str.lower()\n",
    "\n",
    "# выясняем модели авто, у которых не указано количество дверей\n",
    "mask = df['doors_cnt'].isna()\n",
    "\n",
    "models_to_fix = df.loc[mask, 'vehicle_model'].unique()\n",
    "\n",
    "models_dict = {}\n",
    "for model in models_to_fix:    \n",
    "    mask_ = df['vehicle_model'] == model\n",
    "    if df.loc[mask_, 'doors_cnt'].nunique() != 0:\n",
    "        # возьмем количество дверей у самой распространенной модели\n",
    "        models_dict[model] = df.loc[mask_, 'doors_cnt'].value_counts().sort_values(ascending=False).index[0]\n",
    "    else:\n",
    "        # если модель единственная, берём модальным значение\n",
    "        models_dict[model] = df['doors_cnt'].mode()[0]\n",
    "\n",
    "# заполним пропуски\n",
    "df.loc[mask, 'doors_cnt'] = df.loc[mask, 'vehicle_model'].map(models_dict)"
   ]
  },
  {
   "cell_type": "markdown",
   "metadata": {},
   "source": [
    "Теперь разберёмся с пропусками в признаке ***vehicle_model*** (их всего 6):"
   ]
  },
  {
   "cell_type": "code",
   "execution_count": 17,
   "metadata": {},
   "outputs": [
    {
     "data": {
      "text/html": [
       "<div>\n",
       "<style scoped>\n",
       "    .dataframe tbody tr th:only-of-type {\n",
       "        vertical-align: middle;\n",
       "    }\n",
       "\n",
       "    .dataframe tbody tr th {\n",
       "        vertical-align: top;\n",
       "    }\n",
       "\n",
       "    .dataframe thead th {\n",
       "        text-align: right;\n",
       "    }\n",
       "</style>\n",
       "<table border=\"1\" class=\"dataframe\">\n",
       "  <thead>\n",
       "    <tr style=\"text-align: right;\">\n",
       "      <th></th>\n",
       "      <th>vehicle_manufacturer</th>\n",
       "      <th>vehicle_model</th>\n",
       "      <th>vehicle_category</th>\n",
       "      <th>current_mileage</th>\n",
       "      <th>vehicle_year</th>\n",
       "      <th>vehicle_gearbox_type</th>\n",
       "      <th>doors_cnt</th>\n",
       "      <th>wheels</th>\n",
       "      <th>vehicle_color</th>\n",
       "      <th>vehicle_interior_color</th>\n",
       "      <th>car_vin</th>\n",
       "      <th>car_leather_interior</th>\n",
       "      <th>deal_type</th>\n",
       "      <th>final_price</th>\n",
       "    </tr>\n",
       "  </thead>\n",
       "  <tbody>\n",
       "    <tr>\n",
       "      <th>6300</th>\n",
       "      <td>სხვა</td>\n",
       "      <td>NaN</td>\n",
       "      <td>Universal</td>\n",
       "      <td>0</td>\n",
       "      <td>2007</td>\n",
       "      <td>Tiptronic</td>\n",
       "      <td>2/3</td>\n",
       "      <td>Left wheel</td>\n",
       "      <td>Blue</td>\n",
       "      <td>Black</td>\n",
       "      <td>NaN</td>\n",
       "      <td>1</td>\n",
       "      <td>For Sale</td>\n",
       "      <td>2500.0</td>\n",
       "    </tr>\n",
       "    <tr>\n",
       "      <th>11796</th>\n",
       "      <td>HONDA</td>\n",
       "      <td>NaN</td>\n",
       "      <td>Hatchback</td>\n",
       "      <td>168900</td>\n",
       "      <td>2012</td>\n",
       "      <td>Automatic</td>\n",
       "      <td>4/5</td>\n",
       "      <td>Right-hand drive</td>\n",
       "      <td>White</td>\n",
       "      <td>Black</td>\n",
       "      <td>NaN</td>\n",
       "      <td>1</td>\n",
       "      <td>For Sale</td>\n",
       "      <td>4200.0</td>\n",
       "    </tr>\n",
       "    <tr>\n",
       "      <th>14755</th>\n",
       "      <td>სხვა</td>\n",
       "      <td>NaN</td>\n",
       "      <td>Limousine</td>\n",
       "      <td>400</td>\n",
       "      <td>2019</td>\n",
       "      <td>Automatic</td>\n",
       "      <td>&gt;5</td>\n",
       "      <td>Left wheel</td>\n",
       "      <td>White</td>\n",
       "      <td>Black</td>\n",
       "      <td>NaN</td>\n",
       "      <td>1</td>\n",
       "      <td>For Sale</td>\n",
       "      <td>14500.0</td>\n",
       "    </tr>\n",
       "    <tr>\n",
       "      <th>20642</th>\n",
       "      <td>JAC</td>\n",
       "      <td>NaN</td>\n",
       "      <td>Microbus</td>\n",
       "      <td>1000</td>\n",
       "      <td>2019</td>\n",
       "      <td>Manual</td>\n",
       "      <td>4/5</td>\n",
       "      <td>Left wheel</td>\n",
       "      <td>White</td>\n",
       "      <td>Grey</td>\n",
       "      <td>NaN</td>\n",
       "      <td>1</td>\n",
       "      <td>For Sale</td>\n",
       "      <td>22500.0</td>\n",
       "    </tr>\n",
       "    <tr>\n",
       "      <th>22563</th>\n",
       "      <td>სხვა</td>\n",
       "      <td>NaN</td>\n",
       "      <td>Sedan</td>\n",
       "      <td>32895</td>\n",
       "      <td>1972</td>\n",
       "      <td>Manual</td>\n",
       "      <td>4/5</td>\n",
       "      <td>Left wheel</td>\n",
       "      <td>Green</td>\n",
       "      <td>Brown</td>\n",
       "      <td>NaN</td>\n",
       "      <td>0</td>\n",
       "      <td>For Sale</td>\n",
       "      <td>1.0</td>\n",
       "    </tr>\n",
       "    <tr>\n",
       "      <th>32928</th>\n",
       "      <td>FOTON</td>\n",
       "      <td>NaN</td>\n",
       "      <td>Sedan</td>\n",
       "      <td>100000</td>\n",
       "      <td>2001</td>\n",
       "      <td>Manual</td>\n",
       "      <td>4/5</td>\n",
       "      <td>Left wheel</td>\n",
       "      <td>Green</td>\n",
       "      <td>Yellow</td>\n",
       "      <td>NaN</td>\n",
       "      <td>0</td>\n",
       "      <td>For Sale</td>\n",
       "      <td>223.0</td>\n",
       "    </tr>\n",
       "  </tbody>\n",
       "</table>\n",
       "</div>"
      ],
      "text/plain": [
       "      vehicle_manufacturer vehicle_model vehicle_category  current_mileage  \\\n",
       "6300                  სხვა           NaN        Universal                0   \n",
       "11796                HONDA           NaN        Hatchback           168900   \n",
       "14755                 სხვა           NaN        Limousine              400   \n",
       "20642                  JAC           NaN         Microbus             1000   \n",
       "22563                 სხვა           NaN            Sedan            32895   \n",
       "32928                FOTON           NaN            Sedan           100000   \n",
       "\n",
       "       vehicle_year vehicle_gearbox_type doors_cnt                 wheels  \\\n",
       "6300           2007            Tiptronic       2/3           Left wheel     \n",
       "11796          2012            Automatic       4/5    Right-hand drive      \n",
       "14755          2019            Automatic        >5           Left wheel     \n",
       "20642          2019               Manual       4/5           Left wheel     \n",
       "22563          1972               Manual       4/5           Left wheel     \n",
       "32928          2001               Manual       4/5           Left wheel     \n",
       "\n",
       "      vehicle_color vehicle_interior_color car_vin  car_leather_interior  \\\n",
       "6300           Blue                  Black     NaN                     1   \n",
       "11796         White                  Black     NaN                     1   \n",
       "14755         White                  Black     NaN                     1   \n",
       "20642         White                   Grey     NaN                     1   \n",
       "22563         Green                  Brown     NaN                     0   \n",
       "32928         Green                 Yellow     NaN                     0   \n",
       "\n",
       "      deal_type  final_price  \n",
       "6300   For Sale       2500.0  \n",
       "11796  For Sale       4200.0  \n",
       "14755  For Sale      14500.0  \n",
       "20642  For Sale      22500.0  \n",
       "22563  For Sale          1.0  \n",
       "32928  For Sale        223.0  "
      ]
     },
     "execution_count": 17,
     "metadata": {},
     "output_type": "execute_result"
    }
   ],
   "source": [
    "df[df.vehicle_model.isna()]"
   ]
  },
  {
   "cell_type": "markdown",
   "metadata": {},
   "source": [
    "Учитывая, какие характеристики у нас в признаках, мы не можем однозначно определить модель, тем более что признак ***VIN*** здесь пропущен.\n",
    "\n",
    "Давайте заполним пропуски модальным значением для каждого конкретного производителя:"
   ]
  },
  {
   "cell_type": "code",
   "execution_count": 18,
   "metadata": {},
   "outputs": [],
   "source": [
    "manufacturer_list = df.loc[df.vehicle_model.isna(), 'vehicle_manufacturer'].unique().tolist()\n",
    "\n",
    "for manufacturer in manufacturer_list:\n",
    "    mask_ = df.vehicle_manufacturer == manufacturer\n",
    "    # сделаем через try-except, поскольку не у всех есть модальное значение\n",
    "    try:\n",
    "        mode_ = df.loc[mask_, 'vehicle_model'].mode()[0]\n",
    "    except:\n",
    "        mode_ = 'unknown'\n",
    "    df.loc[mask_, 'vehicle_model'] = df.loc[mask_, 'vehicle_model'].fillna(mode_)"
   ]
  },
  {
   "cell_type": "markdown",
   "metadata": {},
   "source": [
    "Теперь разберёмся с признаком ***car_vin***. Поскольку там около 2/3 пропусков, удалим его:"
   ]
  },
  {
   "cell_type": "code",
   "execution_count": 19,
   "metadata": {},
   "outputs": [],
   "source": [
    "df = df.drop('car_vin', axis=1)"
   ]
  },
  {
   "cell_type": "markdown",
   "metadata": {},
   "source": [
    "***\n",
    "### Разведочный анализ данных."
   ]
  },
  {
   "cell_type": "markdown",
   "metadata": {},
   "source": [
    "Посмотрим ещё раз на наш датасет:"
   ]
  },
  {
   "cell_type": "code",
   "execution_count": 20,
   "metadata": {},
   "outputs": [
    {
     "data": {
      "text/html": [
       "<div>\n",
       "<style scoped>\n",
       "    .dataframe tbody tr th:only-of-type {\n",
       "        vertical-align: middle;\n",
       "    }\n",
       "\n",
       "    .dataframe tbody tr th {\n",
       "        vertical-align: top;\n",
       "    }\n",
       "\n",
       "    .dataframe thead th {\n",
       "        text-align: right;\n",
       "    }\n",
       "</style>\n",
       "<table border=\"1\" class=\"dataframe\">\n",
       "  <thead>\n",
       "    <tr style=\"text-align: right;\">\n",
       "      <th></th>\n",
       "      <th>vehicle_manufacturer</th>\n",
       "      <th>vehicle_model</th>\n",
       "      <th>vehicle_category</th>\n",
       "      <th>current_mileage</th>\n",
       "      <th>vehicle_year</th>\n",
       "      <th>vehicle_gearbox_type</th>\n",
       "      <th>doors_cnt</th>\n",
       "      <th>wheels</th>\n",
       "      <th>vehicle_color</th>\n",
       "      <th>vehicle_interior_color</th>\n",
       "      <th>car_leather_interior</th>\n",
       "      <th>deal_type</th>\n",
       "      <th>final_price</th>\n",
       "    </tr>\n",
       "  </thead>\n",
       "  <tbody>\n",
       "    <tr>\n",
       "      <th>0</th>\n",
       "      <td>TOYOTA</td>\n",
       "      <td>aqua s</td>\n",
       "      <td>Sedan</td>\n",
       "      <td>133000</td>\n",
       "      <td>2014</td>\n",
       "      <td>Automatic</td>\n",
       "      <td>4/5</td>\n",
       "      <td>Right-hand drive</td>\n",
       "      <td>Silver</td>\n",
       "      <td>Black</td>\n",
       "      <td>0</td>\n",
       "      <td>For Sale</td>\n",
       "      <td>3650.0</td>\n",
       "    </tr>\n",
       "    <tr>\n",
       "      <th>1</th>\n",
       "      <td>MERCEDES-BENZ</td>\n",
       "      <td>c 220</td>\n",
       "      <td>Sedan</td>\n",
       "      <td>24500</td>\n",
       "      <td>2010</td>\n",
       "      <td>Manual</td>\n",
       "      <td>4/5</td>\n",
       "      <td>Left wheel</td>\n",
       "      <td>Silver</td>\n",
       "      <td>Black</td>\n",
       "      <td>0</td>\n",
       "      <td>For Sale</td>\n",
       "      <td>6800.0</td>\n",
       "    </tr>\n",
       "    <tr>\n",
       "      <th>2</th>\n",
       "      <td>HYUNDAI</td>\n",
       "      <td>veloster</td>\n",
       "      <td>Hatchback</td>\n",
       "      <td>31000</td>\n",
       "      <td>2016</td>\n",
       "      <td>Tiptronic</td>\n",
       "      <td>2/3</td>\n",
       "      <td>Left wheel</td>\n",
       "      <td>Silver</td>\n",
       "      <td>Black</td>\n",
       "      <td>1</td>\n",
       "      <td>For Sale</td>\n",
       "      <td>6300.0</td>\n",
       "    </tr>\n",
       "    <tr>\n",
       "      <th>3</th>\n",
       "      <td>HYUNDAI</td>\n",
       "      <td>santa fe</td>\n",
       "      <td>Jeep</td>\n",
       "      <td>115459</td>\n",
       "      <td>2015</td>\n",
       "      <td>Automatic</td>\n",
       "      <td>4/5</td>\n",
       "      <td>Left wheel</td>\n",
       "      <td>Blue</td>\n",
       "      <td>Black</td>\n",
       "      <td>1</td>\n",
       "      <td>For Sale</td>\n",
       "      <td>14488.0</td>\n",
       "    </tr>\n",
       "    <tr>\n",
       "      <th>4</th>\n",
       "      <td>TOYOTA</td>\n",
       "      <td>chr</td>\n",
       "      <td>Jeep</td>\n",
       "      <td>18950</td>\n",
       "      <td>2019</td>\n",
       "      <td>Automatic</td>\n",
       "      <td>4/5</td>\n",
       "      <td>Left wheel</td>\n",
       "      <td>Black</td>\n",
       "      <td>Unknown</td>\n",
       "      <td>1</td>\n",
       "      <td>For Sale</td>\n",
       "      <td>5000.0</td>\n",
       "    </tr>\n",
       "    <tr>\n",
       "      <th>5</th>\n",
       "      <td>MITSUBISHI</td>\n",
       "      <td>delica</td>\n",
       "      <td>Jeep</td>\n",
       "      <td>149000</td>\n",
       "      <td>2003</td>\n",
       "      <td>Automatic</td>\n",
       "      <td>4/5</td>\n",
       "      <td>Right-hand drive</td>\n",
       "      <td>Silver</td>\n",
       "      <td>Black</td>\n",
       "      <td>0</td>\n",
       "      <td>For Sale</td>\n",
       "      <td>20.0</td>\n",
       "    </tr>\n",
       "    <tr>\n",
       "      <th>6</th>\n",
       "      <td>HYUNDAI</td>\n",
       "      <td>tucson</td>\n",
       "      <td>Jeep</td>\n",
       "      <td>173600</td>\n",
       "      <td>2013</td>\n",
       "      <td>Automatic</td>\n",
       "      <td>4/5</td>\n",
       "      <td>Left wheel</td>\n",
       "      <td>Silver</td>\n",
       "      <td>Black</td>\n",
       "      <td>1</td>\n",
       "      <td>For Sale</td>\n",
       "      <td>7632.0</td>\n",
       "    </tr>\n",
       "    <tr>\n",
       "      <th>7</th>\n",
       "      <td>BMW</td>\n",
       "      <td>x5</td>\n",
       "      <td>Jeep</td>\n",
       "      <td>264000</td>\n",
       "      <td>2006</td>\n",
       "      <td>Tiptronic</td>\n",
       "      <td>4/5</td>\n",
       "      <td>Left wheel</td>\n",
       "      <td>Silver</td>\n",
       "      <td>Black</td>\n",
       "      <td>1</td>\n",
       "      <td>For Sale</td>\n",
       "      <td>6500.0</td>\n",
       "    </tr>\n",
       "    <tr>\n",
       "      <th>8</th>\n",
       "      <td>TOYOTA</td>\n",
       "      <td>aqua</td>\n",
       "      <td>Hatchback</td>\n",
       "      <td>86658</td>\n",
       "      <td>2017</td>\n",
       "      <td>Automatic</td>\n",
       "      <td>4/5</td>\n",
       "      <td>Left wheel</td>\n",
       "      <td>White</td>\n",
       "      <td>Black</td>\n",
       "      <td>1</td>\n",
       "      <td>For Sale</td>\n",
       "      <td>4870.0</td>\n",
       "    </tr>\n",
       "    <tr>\n",
       "      <th>9</th>\n",
       "      <td>BMW</td>\n",
       "      <td>640</td>\n",
       "      <td>Sedan</td>\n",
       "      <td>190000</td>\n",
       "      <td>2012</td>\n",
       "      <td>Tiptronic</td>\n",
       "      <td>4/5</td>\n",
       "      <td>Left wheel</td>\n",
       "      <td>Grey</td>\n",
       "      <td>Black</td>\n",
       "      <td>1</td>\n",
       "      <td>For Sale</td>\n",
       "      <td>16500.0</td>\n",
       "    </tr>\n",
       "  </tbody>\n",
       "</table>\n",
       "</div>"
      ],
      "text/plain": [
       "  vehicle_manufacturer vehicle_model vehicle_category  current_mileage  \\\n",
       "0               TOYOTA        aqua s            Sedan           133000   \n",
       "1        MERCEDES-BENZ         c 220            Sedan            24500   \n",
       "2              HYUNDAI      veloster        Hatchback            31000   \n",
       "3              HYUNDAI      santa fe             Jeep           115459   \n",
       "4               TOYOTA           chr             Jeep            18950   \n",
       "5           MITSUBISHI        delica             Jeep           149000   \n",
       "6              HYUNDAI        tucson             Jeep           173600   \n",
       "7                  BMW            x5             Jeep           264000   \n",
       "8               TOYOTA          aqua        Hatchback            86658   \n",
       "9                  BMW           640            Sedan           190000   \n",
       "\n",
       "   vehicle_year vehicle_gearbox_type doors_cnt                 wheels  \\\n",
       "0          2014            Automatic       4/5    Right-hand drive      \n",
       "1          2010               Manual       4/5           Left wheel     \n",
       "2          2016            Tiptronic       2/3           Left wheel     \n",
       "3          2015            Automatic       4/5           Left wheel     \n",
       "4          2019            Automatic       4/5           Left wheel     \n",
       "5          2003            Automatic       4/5    Right-hand drive      \n",
       "6          2013            Automatic       4/5           Left wheel     \n",
       "7          2006            Tiptronic       4/5           Left wheel     \n",
       "8          2017            Automatic       4/5           Left wheel     \n",
       "9          2012            Tiptronic       4/5           Left wheel     \n",
       "\n",
       "  vehicle_color vehicle_interior_color  car_leather_interior deal_type  \\\n",
       "0        Silver                  Black                     0  For Sale   \n",
       "1        Silver                  Black                     0  For Sale   \n",
       "2        Silver                  Black                     1  For Sale   \n",
       "3          Blue                  Black                     1  For Sale   \n",
       "4         Black                Unknown                     1  For Sale   \n",
       "5        Silver                  Black                     0  For Sale   \n",
       "6        Silver                  Black                     1  For Sale   \n",
       "7        Silver                  Black                     1  For Sale   \n",
       "8         White                  Black                     1  For Sale   \n",
       "9          Grey                  Black                     1  For Sale   \n",
       "\n",
       "   final_price  \n",
       "0       3650.0  \n",
       "1       6800.0  \n",
       "2       6300.0  \n",
       "3      14488.0  \n",
       "4       5000.0  \n",
       "5         20.0  \n",
       "6       7632.0  \n",
       "7       6500.0  \n",
       "8       4870.0  \n",
       "9      16500.0  "
      ]
     },
     "execution_count": 20,
     "metadata": {},
     "output_type": "execute_result"
    }
   ],
   "source": [
    "df.head(10)"
   ]
  },
  {
   "cell_type": "code",
   "execution_count": 21,
   "metadata": {},
   "outputs": [
    {
     "name": "stdout",
     "output_type": "stream",
     "text": [
      "<class 'pandas.core.frame.DataFrame'>\n",
      "Int64Index: 34999 entries, 0 to 34999\n",
      "Data columns (total 13 columns):\n",
      " #   Column                  Non-Null Count  Dtype  \n",
      "---  ------                  --------------  -----  \n",
      " 0   vehicle_manufacturer    34999 non-null  object \n",
      " 1   vehicle_model           34999 non-null  object \n",
      " 2   vehicle_category        34999 non-null  object \n",
      " 3   current_mileage         34999 non-null  int64  \n",
      " 4   vehicle_year            34999 non-null  int64  \n",
      " 5   vehicle_gearbox_type    34999 non-null  object \n",
      " 6   doors_cnt               34999 non-null  object \n",
      " 7   wheels                  34999 non-null  object \n",
      " 8   vehicle_color           34999 non-null  object \n",
      " 9   vehicle_interior_color  34999 non-null  object \n",
      " 10  car_leather_interior    34999 non-null  int64  \n",
      " 11  deal_type               34999 non-null  object \n",
      " 12  final_price             34999 non-null  float64\n",
      "dtypes: float64(1), int64(3), object(9)\n",
      "memory usage: 3.7+ MB\n"
     ]
    }
   ],
   "source": [
    "df.info()"
   ]
  },
  {
   "cell_type": "markdown",
   "metadata": {},
   "source": [
    "Сначала посмотрим на признак ***deal_type***:"
   ]
  },
  {
   "cell_type": "code",
   "execution_count": 22,
   "metadata": {},
   "outputs": [
    {
     "data": {
      "text/plain": [
       "array(['For Sale', 'For Rent'], dtype=object)"
      ]
     },
     "execution_count": 22,
     "metadata": {},
     "output_type": "execute_result"
    }
   ],
   "source": [
    "df.deal_type.unique()"
   ]
  },
  {
   "cell_type": "markdown",
   "metadata": {},
   "source": [
    "Ага, тут не только продажа машин, но и аренда. Посмотрим на соотношение:"
   ]
  },
  {
   "cell_type": "code",
   "execution_count": 23,
   "metadata": {},
   "outputs": [
    {
     "data": {
      "text/plain": [
       "For Sale    98.205663\n",
       "For Rent     1.794337\n",
       "Name: deal_type, dtype: float64"
      ]
     },
     "execution_count": 23,
     "metadata": {},
     "output_type": "execute_result"
    }
   ],
   "source": [
    "df.deal_type.value_counts(normalize=True) * 100"
   ]
  },
  {
   "cell_type": "markdown",
   "metadata": {},
   "source": [
    "Сделок аренды всего около 2% от общего количества, но даже в этом случае присутствие в датасете и аренды, и продажи может сильно исказить результат. Очевидно, что ценообразование в этих случаях совершенно разное, поэтому нам нужно будет построить две модели - одну для продаж, другую - для аренды.\n",
    "\n",
    "Разделим датасет на 2 части:"
   ]
  },
  {
   "cell_type": "code",
   "execution_count": 24,
   "metadata": {},
   "outputs": [],
   "source": [
    "df_sale = df[df.deal_type == 'For Sale']\n",
    "df_rent = df[df.deal_type == 'For Rent']"
   ]
  },
  {
   "cell_type": "markdown",
   "metadata": {},
   "source": [
    "Построим график зависимости цены продажи от различных категорий. Довольно очевидно, что будет однозначная зависимость от марки, модели, пробега и года выпуска. Проверим остальные признаки.\n",
    "\n",
    "Сначала посмотрим на типа авто:"
   ]
  },
  {
   "cell_type": "code",
   "execution_count": 25,
   "metadata": {},
   "outputs": [
    {
     "data": {
      "image/png": "[encoded data removed]",
      "text/plain": [
       "<Figure size 640x480 with 1 Axes>"
      ]
     },
     "metadata": {},
     "output_type": "display_data"
    }
   ],
   "source": [
    "sns.barplot(x=df_sale.vehicle_category, y=df_sale.final_price, hue=df_sale.vehicle_category)\n",
    "\n",
    "plt.title('Зависимость цены от категории авто')\n",
    "plt.xlabel('Тип авто')\n",
    "plt.ylabel('Цена')\n",
    "plt.xticks(rotation=90);"
   ]
  },
  {
   "cell_type": "markdown",
   "metadata": {},
   "source": [
    "Зависимость есть, что в общем-то и ожидалось.\n",
    "\n",
    "Зависимость цены от типа коробки передач:"
   ]
  },
  {
   "cell_type": "code",
   "execution_count": 26,
   "metadata": {},
   "outputs": [
    {
     "data": {
      "image/png": "[encoded data removed]",
      "text/plain": [
       "<Figure size 640x480 with 1 Axes>"
      ]
     },
     "metadata": {},
     "output_type": "display_data"
    }
   ],
   "source": [
    "sns.barplot(x=df_sale.vehicle_gearbox_type, y=df_sale.final_price, hue=df_sale.vehicle_gearbox_type)\n",
    "\n",
    "plt.title('Зависимость цены от типа коробки передач')\n",
    "plt.xlabel('Тип коробки передач')\n",
    "plt.ylabel('Цена');"
   ]
  },
  {
   "cell_type": "code",
   "execution_count": 27,
   "metadata": {},
   "outputs": [
    {
     "data": {
      "text/plain": [
       "Automatic    69.421896\n",
       "Tiptronic    15.862209\n",
       "Manual       10.782346\n",
       "Variator      3.933549\n",
       "Name: vehicle_gearbox_type, dtype: float64"
      ]
     },
     "execution_count": 27,
     "metadata": {},
     "output_type": "execute_result"
    }
   ],
   "source": [
    "df_sale.vehicle_gearbox_type.value_counts(normalize=True) * 100"
   ]
  },
  {
   "cell_type": "markdown",
   "metadata": {},
   "source": [
    "Зависимость цены от количества дверей:"
   ]
  },
  {
   "cell_type": "code",
   "execution_count": 28,
   "metadata": {},
   "outputs": [
    {
     "data": {
      "image/png": "[encoded data removed]",
      "text/plain": [
       "<Figure size 640x480 with 1 Axes>"
      ]
     },
     "metadata": {},
     "output_type": "display_data"
    }
   ],
   "source": [
    "sns.barplot(x=df_sale.doors_cnt, y=df_sale.final_price, hue=df_sale.doors_cnt)\n",
    "\n",
    "plt.title('Зависимость цены от количества дверей')\n",
    "plt.xlabel('Количество дверей')\n",
    "plt.ylabel('Цена');"
   ]
  },
  {
   "cell_type": "code",
   "execution_count": 29,
   "metadata": {},
   "outputs": [
    {
     "data": {
      "text/plain": [
       " 4/5    94.600099\n",
       " 2/3     4.599808\n",
       " >5      0.800093\n",
       "Name: doors_cnt, dtype: float64"
      ]
     },
     "execution_count": 29,
     "metadata": {},
     "output_type": "execute_result"
    }
   ],
   "source": [
    "df_sale.doors_cnt.value_counts(normalize=True) * 100"
   ]
  },
  {
   "cell_type": "markdown",
   "metadata": {},
   "source": [
    "Зависимость цены от расположения руля:"
   ]
  },
  {
   "cell_type": "code",
   "execution_count": 30,
   "metadata": {},
   "outputs": [
    {
     "data": {
      "image/png": "[encoded data removed]",
      "text/plain": [
       "<Figure size 640x480 with 1 Axes>"
      ]
     },
     "metadata": {},
     "output_type": "display_data"
    }
   ],
   "source": [
    "sns.barplot(x=df_sale.wheels, y=df_sale.final_price, hue=df_sale.wheels)\n",
    "\n",
    "plt.title('Зависимость цены от расположения руля')\n",
    "plt.xlabel('Расположение руля')\n",
    "plt.ylabel('Цена');"
   ]
  },
  {
   "cell_type": "markdown",
   "metadata": {},
   "source": [
    "Зависимость от цвета авто и салона:"
   ]
  },
  {
   "cell_type": "code",
   "execution_count": 31,
   "metadata": {},
   "outputs": [
    {
     "data": {
      "image/png": "[encoded data removed]",
      "text/plain": [
       "<Figure size 640x480 with 1 Axes>"
      ]
     },
     "metadata": {},
     "output_type": "display_data"
    }
   ],
   "source": [
    "sns.barplot(x=df_sale.vehicle_color, y=df_sale.final_price, hue=df_sale.vehicle_color)\n",
    "\n",
    "plt.title('Зависимость цены от от цвета авто')\n",
    "plt.xlabel('Цвет авто')\n",
    "plt.ylabel('Цена')\n",
    "plt.xticks(rotation=90);"
   ]
  },
  {
   "cell_type": "code",
   "execution_count": 32,
   "metadata": {},
   "outputs": [
    {
     "data": {
      "image/png": "[encoded data removed]",
      "text/plain": [
       "<Figure size 640x480 with 1 Axes>"
      ]
     },
     "metadata": {},
     "output_type": "display_data"
    }
   ],
   "source": [
    "sns.barplot(x=df_sale.vehicle_interior_color, y=df_sale.final_price, hue=df_sale.vehicle_interior_color)\n",
    "\n",
    "plt.title('Зависимость цены от цвета салона')\n",
    "plt.xlabel('Цвет салона')\n",
    "plt.ylabel('Цена')\n",
    "plt.xticks(rotation=90);"
   ]
  },
  {
   "cell_type": "markdown",
   "metadata": {},
   "source": [
    "Ну и напоследок посмотрим на признак ***car_leather_interior***:"
   ]
  },
  {
   "cell_type": "code",
   "execution_count": 33,
   "metadata": {},
   "outputs": [
    {
     "data": {
      "image/png": "[encoded data removed]",
      "text/plain": [
       "<Figure size 640x480 with 1 Axes>"
      ]
     },
     "metadata": {},
     "output_type": "display_data"
    }
   ],
   "source": [
    "sns.barplot(x=df_sale.car_leather_interior, y=df_sale.final_price, hue=df_sale.car_leather_interior)\n",
    "\n",
    "plt.title('Зависимость цены от типа салона (кожа/ткань)')\n",
    "plt.xlabel('Тип салона (кожа/ткань)')\n",
    "plt.ylabel('Цена');"
   ]
  },
  {
   "cell_type": "markdown",
   "metadata": {},
   "source": [
    "Разделим признаки на категориальные и численные:"
   ]
  },
  {
   "cell_type": "code",
   "execution_count": 34,
   "metadata": {},
   "outputs": [
    {
     "name": "stdout",
     "output_type": "stream",
     "text": [
      "9 ['vehicle_manufacturer', 'vehicle_model', 'vehicle_category', 'vehicle_gearbox_type', 'doors_cnt', 'wheels', 'vehicle_color', 'vehicle_interior_color', 'deal_type']\n",
      "4 ['current_mileage', 'vehicle_year', 'car_leather_interior', 'final_price']\n"
     ]
    }
   ],
   "source": [
    "types = df_sale.dtypes\n",
    "cat_features = list(types[(types == 'object')].index)\n",
    "num_features = list(types[(types != 'object')].index)\n",
    "print(len(cat_features), cat_features)\n",
    "print(len(num_features), num_features)"
   ]
  },
  {
   "cell_type": "markdown",
   "metadata": {},
   "source": [
    "Посмотрим на числовые признаки:"
   ]
  },
  {
   "cell_type": "code",
   "execution_count": 35,
   "metadata": {},
   "outputs": [
    {
     "data": {
      "text/html": [
       "<div>\n",
       "<style scoped>\n",
       "    .dataframe tbody tr th:only-of-type {\n",
       "        vertical-align: middle;\n",
       "    }\n",
       "\n",
       "    .dataframe tbody tr th {\n",
       "        vertical-align: top;\n",
       "    }\n",
       "\n",
       "    .dataframe thead th {\n",
       "        text-align: right;\n",
       "    }\n",
       "</style>\n",
       "<table border=\"1\" class=\"dataframe\">\n",
       "  <thead>\n",
       "    <tr style=\"text-align: right;\">\n",
       "      <th></th>\n",
       "      <th>current_mileage</th>\n",
       "      <th>vehicle_year</th>\n",
       "      <th>car_leather_interior</th>\n",
       "      <th>final_price</th>\n",
       "    </tr>\n",
       "  </thead>\n",
       "  <tbody>\n",
       "    <tr>\n",
       "      <th>count</th>\n",
       "      <td>3.437100e+04</td>\n",
       "      <td>34371.000000</td>\n",
       "      <td>34371.000000</td>\n",
       "      <td>3.437100e+04</td>\n",
       "    </tr>\n",
       "    <tr>\n",
       "      <th>mean</th>\n",
       "      <td>1.907441e+06</td>\n",
       "      <td>2010.765762</td>\n",
       "      <td>0.722470</td>\n",
       "      <td>6.119873e+03</td>\n",
       "    </tr>\n",
       "    <tr>\n",
       "      <th>std</th>\n",
       "      <td>5.584141e+07</td>\n",
       "      <td>5.827576</td>\n",
       "      <td>0.447787</td>\n",
       "      <td>7.407947e+04</td>\n",
       "    </tr>\n",
       "    <tr>\n",
       "      <th>min</th>\n",
       "      <td>0.000000e+00</td>\n",
       "      <td>1940.000000</td>\n",
       "      <td>0.000000</td>\n",
       "      <td>0.000000e+00</td>\n",
       "    </tr>\n",
       "    <tr>\n",
       "      <th>25%</th>\n",
       "      <td>7.149900e+04</td>\n",
       "      <td>2009.000000</td>\n",
       "      <td>0.000000</td>\n",
       "      <td>1.500000e+03</td>\n",
       "    </tr>\n",
       "    <tr>\n",
       "      <th>50%</th>\n",
       "      <td>1.290000e+05</td>\n",
       "      <td>2012.000000</td>\n",
       "      <td>1.000000</td>\n",
       "      <td>4.000000e+03</td>\n",
       "    </tr>\n",
       "    <tr>\n",
       "      <th>75%</th>\n",
       "      <td>1.905555e+05</td>\n",
       "      <td>2014.000000</td>\n",
       "      <td>1.000000</td>\n",
       "      <td>7.000000e+03</td>\n",
       "    </tr>\n",
       "    <tr>\n",
       "      <th>max</th>\n",
       "      <td>2.147484e+09</td>\n",
       "      <td>2020.000000</td>\n",
       "      <td>1.000000</td>\n",
       "      <td>8.388607e+06</td>\n",
       "    </tr>\n",
       "  </tbody>\n",
       "</table>\n",
       "</div>"
      ],
      "text/plain": [
       "       current_mileage  vehicle_year  car_leather_interior   final_price\n",
       "count     3.437100e+04  34371.000000          34371.000000  3.437100e+04\n",
       "mean      1.907441e+06   2010.765762              0.722470  6.119873e+03\n",
       "std       5.584141e+07      5.827576              0.447787  7.407947e+04\n",
       "min       0.000000e+00   1940.000000              0.000000  0.000000e+00\n",
       "25%       7.149900e+04   2009.000000              0.000000  1.500000e+03\n",
       "50%       1.290000e+05   2012.000000              1.000000  4.000000e+03\n",
       "75%       1.905555e+05   2014.000000              1.000000  7.000000e+03\n",
       "max       2.147484e+09   2020.000000              1.000000  8.388607e+06"
      ]
     },
     "execution_count": 35,
     "metadata": {},
     "output_type": "execute_result"
    }
   ],
   "source": [
    "df_sale[num_features].describe()"
   ]
  },
  {
   "cell_type": "markdown",
   "metadata": {},
   "source": [
    "Построим коробчатые диаграммы для числовых признаков:"
   ]
  },
  {
   "cell_type": "code",
   "execution_count": 36,
   "metadata": {},
   "outputs": [
    {
     "data": {
      "image/png": "[encoded data removed]",
      "text/plain": [
       "<Figure size 1500x500 with 3 Axes>"
      ]
     },
     "metadata": {},
     "output_type": "display_data"
    }
   ],
   "source": [
    "fig, axes = plt.subplots(nrows=1, ncols=3, figsize=(15,5))\n",
    "sns.boxplot(ax=axes[0], x=df_sale['current_mileage'])\n",
    "sns.boxplot(ax=axes[1], x=df_sale['vehicle_year'])\n",
    "sns.boxplot(ax=axes[2], x=df_sale['final_price']);"
   ]
  },
  {
   "cell_type": "markdown",
   "metadata": {},
   "source": [
    "Видим довольно большое число выбросов.\n",
    "\n",
    "Давайте начнём с цены. Посмотрим на автомобили с ценой выше 100К:"
   ]
  },
  {
   "cell_type": "code",
   "execution_count": 37,
   "metadata": {},
   "outputs": [
    {
     "data": {
      "text/html": [
       "<div>\n",
       "<style scoped>\n",
       "    .dataframe tbody tr th:only-of-type {\n",
       "        vertical-align: middle;\n",
       "    }\n",
       "\n",
       "    .dataframe tbody tr th {\n",
       "        vertical-align: top;\n",
       "    }\n",
       "\n",
       "    .dataframe thead th {\n",
       "        text-align: right;\n",
       "    }\n",
       "</style>\n",
       "<table border=\"1\" class=\"dataframe\">\n",
       "  <thead>\n",
       "    <tr style=\"text-align: right;\">\n",
       "      <th></th>\n",
       "      <th>vehicle_manufacturer</th>\n",
       "      <th>vehicle_model</th>\n",
       "      <th>vehicle_category</th>\n",
       "      <th>current_mileage</th>\n",
       "      <th>vehicle_year</th>\n",
       "      <th>vehicle_gearbox_type</th>\n",
       "      <th>doors_cnt</th>\n",
       "      <th>wheels</th>\n",
       "      <th>vehicle_color</th>\n",
       "      <th>vehicle_interior_color</th>\n",
       "      <th>car_leather_interior</th>\n",
       "      <th>deal_type</th>\n",
       "      <th>final_price</th>\n",
       "    </tr>\n",
       "  </thead>\n",
       "  <tbody>\n",
       "    <tr>\n",
       "      <th>3877</th>\n",
       "      <td>VOLKSWAGEN</td>\n",
       "      <td>golf</td>\n",
       "      <td>Sedan</td>\n",
       "      <td>7676</td>\n",
       "      <td>2007</td>\n",
       "      <td>Tiptronic</td>\n",
       "      <td>4/5</td>\n",
       "      <td>Left wheel</td>\n",
       "      <td>Red</td>\n",
       "      <td>Yellow</td>\n",
       "      <td>0</td>\n",
       "      <td>For Sale</td>\n",
       "      <td>8388607.0</td>\n",
       "    </tr>\n",
       "    <tr>\n",
       "      <th>12136</th>\n",
       "      <td>BMW</td>\n",
       "      <td>328</td>\n",
       "      <td>Sedan</td>\n",
       "      <td>246000</td>\n",
       "      <td>2008</td>\n",
       "      <td>Automatic</td>\n",
       "      <td>4/5</td>\n",
       "      <td>Left wheel</td>\n",
       "      <td>Blue</td>\n",
       "      <td>Yellow</td>\n",
       "      <td>1</td>\n",
       "      <td>For Sale</td>\n",
       "      <td>1111111.0</td>\n",
       "    </tr>\n",
       "    <tr>\n",
       "      <th>15291</th>\n",
       "      <td>MERCEDES-BENZ</td>\n",
       "      <td>g 65 amg 63amg</td>\n",
       "      <td>Jeep</td>\n",
       "      <td>0</td>\n",
       "      <td>2020</td>\n",
       "      <td>Tiptronic</td>\n",
       "      <td>4/5</td>\n",
       "      <td>Left wheel</td>\n",
       "      <td>Black</td>\n",
       "      <td>Brown</td>\n",
       "      <td>1</td>\n",
       "      <td>For Sale</td>\n",
       "      <td>200000.0</td>\n",
       "    </tr>\n",
       "    <tr>\n",
       "      <th>19820</th>\n",
       "      <td>PORSCHE</td>\n",
       "      <td>panamera turbo s e-hyb</td>\n",
       "      <td>Sedan</td>\n",
       "      <td>16000</td>\n",
       "      <td>2017</td>\n",
       "      <td>Tiptronic</td>\n",
       "      <td>4/5</td>\n",
       "      <td>Left wheel</td>\n",
       "      <td>Red</td>\n",
       "      <td>White</td>\n",
       "      <td>1</td>\n",
       "      <td>For Sale</td>\n",
       "      <td>135000.0</td>\n",
       "    </tr>\n",
       "    <tr>\n",
       "      <th>20577</th>\n",
       "      <td>BMW</td>\n",
       "      <td>520</td>\n",
       "      <td>Sedan</td>\n",
       "      <td>536688566</td>\n",
       "      <td>1992</td>\n",
       "      <td>Manual</td>\n",
       "      <td>4/5</td>\n",
       "      <td>Left wheel</td>\n",
       "      <td>Grey</td>\n",
       "      <td>Black</td>\n",
       "      <td>1</td>\n",
       "      <td>For Sale</td>\n",
       "      <td>111111.0</td>\n",
       "    </tr>\n",
       "    <tr>\n",
       "      <th>24980</th>\n",
       "      <td>SUBARU</td>\n",
       "      <td>legacy</td>\n",
       "      <td>Sedan</td>\n",
       "      <td>97000</td>\n",
       "      <td>2003</td>\n",
       "      <td>Manual</td>\n",
       "      <td>4/5</td>\n",
       "      <td>Right-hand drive</td>\n",
       "      <td>Silver</td>\n",
       "      <td>Black</td>\n",
       "      <td>1</td>\n",
       "      <td>For Sale</td>\n",
       "      <td>1111111.0</td>\n",
       "    </tr>\n",
       "    <tr>\n",
       "      <th>32442</th>\n",
       "      <td>OPEL</td>\n",
       "      <td>combo</td>\n",
       "      <td>Goods wagon</td>\n",
       "      <td>99999</td>\n",
       "      <td>1999</td>\n",
       "      <td>Manual</td>\n",
       "      <td>2/3</td>\n",
       "      <td>Left wheel</td>\n",
       "      <td>Blue</td>\n",
       "      <td>Black</td>\n",
       "      <td>0</td>\n",
       "      <td>For Sale</td>\n",
       "      <td>8388607.0</td>\n",
       "    </tr>\n",
       "    <tr>\n",
       "      <th>32937</th>\n",
       "      <td>LAMBORGHINI</td>\n",
       "      <td>gallardo</td>\n",
       "      <td>Coupe</td>\n",
       "      <td>26000</td>\n",
       "      <td>2013</td>\n",
       "      <td>Tiptronic</td>\n",
       "      <td>2/3</td>\n",
       "      <td>Left wheel</td>\n",
       "      <td>Yellow</td>\n",
       "      <td>Black</td>\n",
       "      <td>1</td>\n",
       "      <td>For Sale</td>\n",
       "      <td>135000.0</td>\n",
       "    </tr>\n",
       "    <tr>\n",
       "      <th>34052</th>\n",
       "      <td>MERCEDES-BENZ</td>\n",
       "      <td>ml 320</td>\n",
       "      <td>Jeep</td>\n",
       "      <td>111111111</td>\n",
       "      <td>2002</td>\n",
       "      <td>Tiptronic</td>\n",
       "      <td>4/5</td>\n",
       "      <td>Left wheel</td>\n",
       "      <td>White</td>\n",
       "      <td>Black</td>\n",
       "      <td>1</td>\n",
       "      <td>For Sale</td>\n",
       "      <td>6666666.0</td>\n",
       "    </tr>\n",
       "  </tbody>\n",
       "</table>\n",
       "</div>"
      ],
      "text/plain": [
       "      vehicle_manufacturer           vehicle_model vehicle_category  \\\n",
       "3877            VOLKSWAGEN                    golf            Sedan   \n",
       "12136                  BMW                     328            Sedan   \n",
       "15291        MERCEDES-BENZ          g 65 amg 63amg             Jeep   \n",
       "19820              PORSCHE  panamera turbo s e-hyb            Sedan   \n",
       "20577                  BMW                     520            Sedan   \n",
       "24980               SUBARU                  legacy            Sedan   \n",
       "32442                 OPEL                   combo      Goods wagon   \n",
       "32937          LAMBORGHINI                gallardo            Coupe   \n",
       "34052        MERCEDES-BENZ                  ml 320             Jeep   \n",
       "\n",
       "       current_mileage  vehicle_year vehicle_gearbox_type doors_cnt  \\\n",
       "3877              7676          2007            Tiptronic       4/5   \n",
       "12136           246000          2008            Automatic       4/5   \n",
       "15291                0          2020            Tiptronic       4/5   \n",
       "19820            16000          2017            Tiptronic       4/5   \n",
       "20577        536688566          1992               Manual       4/5   \n",
       "24980            97000          2003               Manual       4/5   \n",
       "32442            99999          1999               Manual       2/3   \n",
       "32937            26000          2013            Tiptronic       2/3   \n",
       "34052        111111111          2002            Tiptronic       4/5   \n",
       "\n",
       "                      wheels vehicle_color vehicle_interior_color  \\\n",
       "3877            Left wheel             Red                 Yellow   \n",
       "12136           Left wheel            Blue                 Yellow   \n",
       "15291           Left wheel           Black                  Brown   \n",
       "19820           Left wheel             Red                  White   \n",
       "20577           Left wheel            Grey                  Black   \n",
       "24980    Right-hand drive           Silver                  Black   \n",
       "32442           Left wheel            Blue                  Black   \n",
       "32937           Left wheel          Yellow                  Black   \n",
       "34052           Left wheel           White                  Black   \n",
       "\n",
       "       car_leather_interior deal_type  final_price  \n",
       "3877                      0  For Sale    8388607.0  \n",
       "12136                     1  For Sale    1111111.0  \n",
       "15291                     1  For Sale     200000.0  \n",
       "19820                     1  For Sale     135000.0  \n",
       "20577                     1  For Sale     111111.0  \n",
       "24980                     1  For Sale    1111111.0  \n",
       "32442                     0  For Sale    8388607.0  \n",
       "32937                     1  For Sale     135000.0  \n",
       "34052                     1  For Sale    6666666.0  "
      ]
     },
     "execution_count": 37,
     "metadata": {},
     "output_type": "execute_result"
    }
   ],
   "source": [
    "df_sale[df_sale['final_price'] > 1e+5]"
   ]
  },
  {
   "cell_type": "markdown",
   "metadata": {},
   "source": [
    "Таких машин очень мало. Если цена на Ламборджини или Мерседес выглядит более-менее адекватно, то цена больше 8М за Гольф нереальна.\n",
    "\n",
    "Уберём цены выше 200К:"
   ]
  },
  {
   "cell_type": "code",
   "execution_count": 38,
   "metadata": {},
   "outputs": [],
   "source": [
    "df = df[df['final_price'] <= 2e+5]"
   ]
  },
  {
   "cell_type": "markdown",
   "metadata": {},
   "source": [
    "Посмтрим на нулевые цены:"
   ]
  },
  {
   "cell_type": "code",
   "execution_count": 39,
   "metadata": {},
   "outputs": [
    {
     "data": {
      "text/html": [
       "<div>\n",
       "<style scoped>\n",
       "    .dataframe tbody tr th:only-of-type {\n",
       "        vertical-align: middle;\n",
       "    }\n",
       "\n",
       "    .dataframe tbody tr th {\n",
       "        vertical-align: top;\n",
       "    }\n",
       "\n",
       "    .dataframe thead th {\n",
       "        text-align: right;\n",
       "    }\n",
       "</style>\n",
       "<table border=\"1\" class=\"dataframe\">\n",
       "  <thead>\n",
       "    <tr style=\"text-align: right;\">\n",
       "      <th></th>\n",
       "      <th>vehicle_manufacturer</th>\n",
       "      <th>vehicle_model</th>\n",
       "      <th>vehicle_category</th>\n",
       "      <th>current_mileage</th>\n",
       "      <th>vehicle_year</th>\n",
       "      <th>vehicle_gearbox_type</th>\n",
       "      <th>doors_cnt</th>\n",
       "      <th>wheels</th>\n",
       "      <th>vehicle_color</th>\n",
       "      <th>vehicle_interior_color</th>\n",
       "      <th>car_leather_interior</th>\n",
       "      <th>deal_type</th>\n",
       "      <th>final_price</th>\n",
       "    </tr>\n",
       "  </thead>\n",
       "  <tbody>\n",
       "    <tr>\n",
       "      <th>7123</th>\n",
       "      <td>CHEVROLET</td>\n",
       "      <td>lacetti</td>\n",
       "      <td>Hatchback</td>\n",
       "      <td>200000</td>\n",
       "      <td>2006</td>\n",
       "      <td>Manual</td>\n",
       "      <td>4/5</td>\n",
       "      <td>Left wheel</td>\n",
       "      <td>Black</td>\n",
       "      <td>Grey</td>\n",
       "      <td>0</td>\n",
       "      <td>For Sale</td>\n",
       "      <td>0.0</td>\n",
       "    </tr>\n",
       "  </tbody>\n",
       "</table>\n",
       "</div>"
      ],
      "text/plain": [
       "     vehicle_manufacturer vehicle_model vehicle_category  current_mileage  \\\n",
       "7123            CHEVROLET       lacetti        Hatchback           200000   \n",
       "\n",
       "      vehicle_year vehicle_gearbox_type doors_cnt          wheels  \\\n",
       "7123          2006               Manual       4/5    Left wheel     \n",
       "\n",
       "     vehicle_color vehicle_interior_color  car_leather_interior deal_type  \\\n",
       "7123         Black                   Grey                     0  For Sale   \n",
       "\n",
       "      final_price  \n",
       "7123          0.0  "
      ]
     },
     "execution_count": 39,
     "metadata": {},
     "output_type": "execute_result"
    }
   ],
   "source": [
    "df_sale[df_sale['final_price'] == 0]"
   ]
  },
  {
   "cell_type": "markdown",
   "metadata": {},
   "source": [
    "Машину не могут отдавать бесплатно, поэтому удалим эту запись:"
   ]
  },
  {
   "cell_type": "code",
   "execution_count": 40,
   "metadata": {},
   "outputs": [],
   "source": [
    "df = df[df['final_price'] != 0]"
   ]
  },
  {
   "cell_type": "markdown",
   "metadata": {},
   "source": [
    "Теперь разберёмся с пробегом:"
   ]
  },
  {
   "cell_type": "code",
   "execution_count": 41,
   "metadata": {},
   "outputs": [
    {
     "data": {
      "text/html": [
       "<div>\n",
       "<style scoped>\n",
       "    .dataframe tbody tr th:only-of-type {\n",
       "        vertical-align: middle;\n",
       "    }\n",
       "\n",
       "    .dataframe tbody tr th {\n",
       "        vertical-align: top;\n",
       "    }\n",
       "\n",
       "    .dataframe thead th {\n",
       "        text-align: right;\n",
       "    }\n",
       "</style>\n",
       "<table border=\"1\" class=\"dataframe\">\n",
       "  <thead>\n",
       "    <tr style=\"text-align: right;\">\n",
       "      <th></th>\n",
       "      <th>vehicle_manufacturer</th>\n",
       "      <th>vehicle_model</th>\n",
       "      <th>vehicle_category</th>\n",
       "      <th>current_mileage</th>\n",
       "      <th>vehicle_year</th>\n",
       "      <th>vehicle_gearbox_type</th>\n",
       "      <th>doors_cnt</th>\n",
       "      <th>wheels</th>\n",
       "      <th>vehicle_color</th>\n",
       "      <th>vehicle_interior_color</th>\n",
       "      <th>car_leather_interior</th>\n",
       "      <th>deal_type</th>\n",
       "      <th>final_price</th>\n",
       "    </tr>\n",
       "  </thead>\n",
       "  <tbody>\n",
       "    <tr>\n",
       "      <th>316</th>\n",
       "      <td>SUZUKI</td>\n",
       "      <td>grand vitara</td>\n",
       "      <td>Jeep</td>\n",
       "      <td>2147483647</td>\n",
       "      <td>1999</td>\n",
       "      <td>Manual</td>\n",
       "      <td>4/5</td>\n",
       "      <td>Left wheel</td>\n",
       "      <td>Red</td>\n",
       "      <td>Black</td>\n",
       "      <td>1</td>\n",
       "      <td>For Rent</td>\n",
       "      <td>2073.0</td>\n",
       "    </tr>\n",
       "    <tr>\n",
       "      <th>358</th>\n",
       "      <td>MERCEDES-BENZ</td>\n",
       "      <td>e 200</td>\n",
       "      <td>Sedan</td>\n",
       "      <td>2844468</td>\n",
       "      <td>2001</td>\n",
       "      <td>Manual</td>\n",
       "      <td>4/5</td>\n",
       "      <td>Left wheel</td>\n",
       "      <td>Blue</td>\n",
       "      <td>Black</td>\n",
       "      <td>0</td>\n",
       "      <td>For Sale</td>\n",
       "      <td>3500.0</td>\n",
       "    </tr>\n",
       "    <tr>\n",
       "      <th>613</th>\n",
       "      <td>SUBARU</td>\n",
       "      <td>legacy</td>\n",
       "      <td>Universal</td>\n",
       "      <td>1980000</td>\n",
       "      <td>2005</td>\n",
       "      <td>Tiptronic</td>\n",
       "      <td>4/5</td>\n",
       "      <td>Right-hand drive</td>\n",
       "      <td>Black</td>\n",
       "      <td>Black</td>\n",
       "      <td>0</td>\n",
       "      <td>For Sale</td>\n",
       "      <td>2200.0</td>\n",
       "    </tr>\n",
       "    <tr>\n",
       "      <th>660</th>\n",
       "      <td>MITSUBISHI</td>\n",
       "      <td>pajero</td>\n",
       "      <td>Jeep</td>\n",
       "      <td>1111111</td>\n",
       "      <td>1996</td>\n",
       "      <td>Automatic</td>\n",
       "      <td>4/5</td>\n",
       "      <td>Left wheel</td>\n",
       "      <td>Yellow</td>\n",
       "      <td>Brown</td>\n",
       "      <td>0</td>\n",
       "      <td>For Sale</td>\n",
       "      <td>2000.0</td>\n",
       "    </tr>\n",
       "    <tr>\n",
       "      <th>824</th>\n",
       "      <td>SUZUKI</td>\n",
       "      <td>swift</td>\n",
       "      <td>Hatchback</td>\n",
       "      <td>23000000</td>\n",
       "      <td>2005</td>\n",
       "      <td>Manual</td>\n",
       "      <td>4/5</td>\n",
       "      <td>Right-hand drive</td>\n",
       "      <td>Silver</td>\n",
       "      <td>Brown</td>\n",
       "      <td>0</td>\n",
       "      <td>For Sale</td>\n",
       "      <td>733.0</td>\n",
       "    </tr>\n",
       "    <tr>\n",
       "      <th>...</th>\n",
       "      <td>...</td>\n",
       "      <td>...</td>\n",
       "      <td>...</td>\n",
       "      <td>...</td>\n",
       "      <td>...</td>\n",
       "      <td>...</td>\n",
       "      <td>...</td>\n",
       "      <td>...</td>\n",
       "      <td>...</td>\n",
       "      <td>...</td>\n",
       "      <td>...</td>\n",
       "      <td>...</td>\n",
       "      <td>...</td>\n",
       "    </tr>\n",
       "    <tr>\n",
       "      <th>34026</th>\n",
       "      <td>HYUNDAI</td>\n",
       "      <td>elantra</td>\n",
       "      <td>Sedan</td>\n",
       "      <td>1624000</td>\n",
       "      <td>2016</td>\n",
       "      <td>Tiptronic</td>\n",
       "      <td>4/5</td>\n",
       "      <td>Left wheel</td>\n",
       "      <td>White</td>\n",
       "      <td>Grey</td>\n",
       "      <td>0</td>\n",
       "      <td>For Sale</td>\n",
       "      <td>8500.0</td>\n",
       "    </tr>\n",
       "    <tr>\n",
       "      <th>34230</th>\n",
       "      <td>OPEL</td>\n",
       "      <td>astra</td>\n",
       "      <td>Sedan</td>\n",
       "      <td>111111111</td>\n",
       "      <td>1999</td>\n",
       "      <td>Manual</td>\n",
       "      <td>4/5</td>\n",
       "      <td>Left wheel</td>\n",
       "      <td>Silver</td>\n",
       "      <td>White</td>\n",
       "      <td>0</td>\n",
       "      <td>For Sale</td>\n",
       "      <td>1700.0</td>\n",
       "    </tr>\n",
       "    <tr>\n",
       "      <th>34360</th>\n",
       "      <td>FORD</td>\n",
       "      <td>transit</td>\n",
       "      <td>Microbus</td>\n",
       "      <td>1111111</td>\n",
       "      <td>2000</td>\n",
       "      <td>Manual</td>\n",
       "      <td>2/3</td>\n",
       "      <td>Left wheel</td>\n",
       "      <td>White</td>\n",
       "      <td>Grey</td>\n",
       "      <td>0</td>\n",
       "      <td>For Sale</td>\n",
       "      <td>4100.0</td>\n",
       "    </tr>\n",
       "    <tr>\n",
       "      <th>34791</th>\n",
       "      <td>MERCEDES-BENZ</td>\n",
       "      <td>200</td>\n",
       "      <td>Sedan</td>\n",
       "      <td>3000000</td>\n",
       "      <td>1998</td>\n",
       "      <td>Manual</td>\n",
       "      <td>4/5</td>\n",
       "      <td>Left wheel</td>\n",
       "      <td>Green</td>\n",
       "      <td>Black</td>\n",
       "      <td>0</td>\n",
       "      <td>For Sale</td>\n",
       "      <td>2000.0</td>\n",
       "    </tr>\n",
       "    <tr>\n",
       "      <th>34952</th>\n",
       "      <td>NISSAN</td>\n",
       "      <td>micra</td>\n",
       "      <td>Hatchback</td>\n",
       "      <td>666666666</td>\n",
       "      <td>1985</td>\n",
       "      <td>Manual</td>\n",
       "      <td>2/3</td>\n",
       "      <td>Left wheel</td>\n",
       "      <td>Blue</td>\n",
       "      <td>Brown</td>\n",
       "      <td>0</td>\n",
       "      <td>For Sale</td>\n",
       "      <td>500.0</td>\n",
       "    </tr>\n",
       "  </tbody>\n",
       "</table>\n",
       "<p>160 rows × 13 columns</p>\n",
       "</div>"
      ],
      "text/plain": [
       "      vehicle_manufacturer vehicle_model vehicle_category  current_mileage  \\\n",
       "316                 SUZUKI  grand vitara             Jeep       2147483647   \n",
       "358          MERCEDES-BENZ         e 200            Sedan          2844468   \n",
       "613                 SUBARU        legacy        Universal          1980000   \n",
       "660             MITSUBISHI        pajero             Jeep          1111111   \n",
       "824                 SUZUKI         swift        Hatchback         23000000   \n",
       "...                    ...           ...              ...              ...   \n",
       "34026              HYUNDAI       elantra            Sedan          1624000   \n",
       "34230                 OPEL         astra            Sedan        111111111   \n",
       "34360                 FORD       transit         Microbus          1111111   \n",
       "34791        MERCEDES-BENZ           200            Sedan          3000000   \n",
       "34952               NISSAN         micra        Hatchback        666666666   \n",
       "\n",
       "       vehicle_year vehicle_gearbox_type doors_cnt                 wheels  \\\n",
       "316            1999               Manual       4/5           Left wheel     \n",
       "358            2001               Manual       4/5           Left wheel     \n",
       "613            2005            Tiptronic       4/5    Right-hand drive      \n",
       "660            1996            Automatic       4/5           Left wheel     \n",
       "824            2005               Manual       4/5    Right-hand drive      \n",
       "...             ...                  ...       ...                    ...   \n",
       "34026          2016            Tiptronic       4/5           Left wheel     \n",
       "34230          1999               Manual       4/5           Left wheel     \n",
       "34360          2000               Manual       2/3           Left wheel     \n",
       "34791          1998               Manual       4/5           Left wheel     \n",
       "34952          1985               Manual       2/3           Left wheel     \n",
       "\n",
       "      vehicle_color vehicle_interior_color  car_leather_interior deal_type  \\\n",
       "316             Red                  Black                     1  For Rent   \n",
       "358            Blue                  Black                     0  For Sale   \n",
       "613           Black                  Black                     0  For Sale   \n",
       "660          Yellow                  Brown                     0  For Sale   \n",
       "824          Silver                  Brown                     0  For Sale   \n",
       "...             ...                    ...                   ...       ...   \n",
       "34026         White                   Grey                     0  For Sale   \n",
       "34230        Silver                  White                     0  For Sale   \n",
       "34360         White                   Grey                     0  For Sale   \n",
       "34791         Green                  Black                     0  For Sale   \n",
       "34952          Blue                  Brown                     0  For Sale   \n",
       "\n",
       "       final_price  \n",
       "316         2073.0  \n",
       "358         3500.0  \n",
       "613         2200.0  \n",
       "660         2000.0  \n",
       "824          733.0  \n",
       "...            ...  \n",
       "34026       8500.0  \n",
       "34230       1700.0  \n",
       "34360       4100.0  \n",
       "34791       2000.0  \n",
       "34952        500.0  \n",
       "\n",
       "[160 rows x 13 columns]"
      ]
     },
     "execution_count": 41,
     "metadata": {},
     "output_type": "execute_result"
    }
   ],
   "source": [
    "df[df['current_mileage'] > 1e+6]"
   ]
  },
  {
   "cell_type": "markdown",
   "metadata": {},
   "source": [
    "А давайте узнаем, каков максимальный пробег вообще, например [тут](https://www.autonews.ru/news/5c90b9b89a7947222d28e4f8). Таким образом, можно ограничить пробег 3 млн. миль:"
   ]
  },
  {
   "cell_type": "code",
   "execution_count": 42,
   "metadata": {},
   "outputs": [],
   "source": [
    "df = df[df['current_mileage'] <= 3e+6]"
   ]
  },
  {
   "cell_type": "markdown",
   "metadata": {},
   "source": [
    "Признак ***vehicle_year*** (год выпуска) выглядит более-менее нормально.\n",
    "\n",
    "Посмотрим ещё раз на коробчатые диаграммы:"
   ]
  },
  {
   "cell_type": "code",
   "execution_count": 43,
   "metadata": {},
   "outputs": [
    {
     "data": {
      "image/png": "[encoded data removed]",
      "text/plain": [
       "<Figure size 1500x500 with 3 Axes>"
      ]
     },
     "metadata": {},
     "output_type": "display_data"
    }
   ],
   "source": [
    "df_sale = df[df.deal_type == 'For Sale']\n",
    "df_rent = df[df.deal_type == 'For Rent']\n",
    "\n",
    "fig, axes = plt.subplots(nrows=1, ncols=3, figsize=(15,5))\n",
    "sns.boxplot(ax=axes[0], x=df_sale['current_mileage'])\n",
    "sns.boxplot(ax=axes[1], x=df_sale['vehicle_year'])\n",
    "sns.boxplot(ax=axes[2], x=df_sale['final_price']);"
   ]
  },
  {
   "cell_type": "markdown",
   "metadata": {},
   "source": [
    "Выглядит уже заметно лучше. Посмотрим на диаграммы рассеяния:"
   ]
  },
  {
   "cell_type": "code",
   "execution_count": 44,
   "metadata": {},
   "outputs": [
    {
     "data": {
      "image/png": "[encoded data removed]",
      "text/plain": [
       "<Figure size 1000x1000 with 20 Axes>"
      ]
     },
     "metadata": {},
     "output_type": "display_data"
    }
   ],
   "source": [
    "sns.pairplot(df_sale[num_features]);"
   ]
  },
  {
   "cell_type": "code",
   "execution_count": 45,
   "metadata": {},
   "outputs": [
    {
     "data": {
      "text/html": [
       "<div>\n",
       "<style scoped>\n",
       "    .dataframe tbody tr th:only-of-type {\n",
       "        vertical-align: middle;\n",
       "    }\n",
       "\n",
       "    .dataframe tbody tr th {\n",
       "        vertical-align: top;\n",
       "    }\n",
       "\n",
       "    .dataframe thead th {\n",
       "        text-align: right;\n",
       "    }\n",
       "</style>\n",
       "<table border=\"1\" class=\"dataframe\">\n",
       "  <thead>\n",
       "    <tr style=\"text-align: right;\">\n",
       "      <th></th>\n",
       "      <th>vehicle_manufacturer</th>\n",
       "      <th>vehicle_model</th>\n",
       "      <th>vehicle_category</th>\n",
       "      <th>current_mileage</th>\n",
       "      <th>vehicle_year</th>\n",
       "      <th>vehicle_gearbox_type</th>\n",
       "      <th>doors_cnt</th>\n",
       "      <th>wheels</th>\n",
       "      <th>vehicle_color</th>\n",
       "      <th>vehicle_interior_color</th>\n",
       "      <th>car_leather_interior</th>\n",
       "      <th>deal_type</th>\n",
       "      <th>final_price</th>\n",
       "    </tr>\n",
       "  </thead>\n",
       "  <tbody>\n",
       "    <tr>\n",
       "      <th>2529</th>\n",
       "      <td>MERCEDES-BENZ</td>\n",
       "      <td>230 w153</td>\n",
       "      <td>Sedan</td>\n",
       "      <td>69000</td>\n",
       "      <td>1943</td>\n",
       "      <td>Automatic</td>\n",
       "      <td>4/5</td>\n",
       "      <td>Left wheel</td>\n",
       "      <td>White</td>\n",
       "      <td>Red</td>\n",
       "      <td>1</td>\n",
       "      <td>For Sale</td>\n",
       "      <td>38000.0</td>\n",
       "    </tr>\n",
       "    <tr>\n",
       "      <th>9287</th>\n",
       "      <td>GAZ</td>\n",
       "      <td>21</td>\n",
       "      <td>Sedan</td>\n",
       "      <td>1234</td>\n",
       "      <td>1941</td>\n",
       "      <td>Manual</td>\n",
       "      <td>2/3</td>\n",
       "      <td>Left wheel</td>\n",
       "      <td>Brown</td>\n",
       "      <td>Black</td>\n",
       "      <td>0</td>\n",
       "      <td>For Sale</td>\n",
       "      <td>15500.0</td>\n",
       "    </tr>\n",
       "    <tr>\n",
       "      <th>21930</th>\n",
       "      <td>MERCEDES-BENZ</td>\n",
       "      <td>220 w153</td>\n",
       "      <td>Limousine</td>\n",
       "      <td>69000</td>\n",
       "      <td>1943</td>\n",
       "      <td>Automatic</td>\n",
       "      <td>4/5</td>\n",
       "      <td>Left wheel</td>\n",
       "      <td>White</td>\n",
       "      <td>Red</td>\n",
       "      <td>1</td>\n",
       "      <td>For Sale</td>\n",
       "      <td>38000.0</td>\n",
       "    </tr>\n",
       "    <tr>\n",
       "      <th>30042</th>\n",
       "      <td>CADILLAC</td>\n",
       "      <td>escalade</td>\n",
       "      <td>Sedan</td>\n",
       "      <td>21000</td>\n",
       "      <td>1940</td>\n",
       "      <td>Manual</td>\n",
       "      <td>4/5</td>\n",
       "      <td>Left wheel</td>\n",
       "      <td>Black</td>\n",
       "      <td>Black</td>\n",
       "      <td>0</td>\n",
       "      <td>For Sale</td>\n",
       "      <td>65000.0</td>\n",
       "    </tr>\n",
       "  </tbody>\n",
       "</table>\n",
       "</div>"
      ],
      "text/plain": [
       "      vehicle_manufacturer vehicle_model vehicle_category  current_mileage  \\\n",
       "2529         MERCEDES-BENZ     230 w153             Sedan            69000   \n",
       "9287                   GAZ            21            Sedan             1234   \n",
       "21930        MERCEDES-BENZ     220 w153         Limousine            69000   \n",
       "30042             CADILLAC      escalade            Sedan            21000   \n",
       "\n",
       "       vehicle_year vehicle_gearbox_type doors_cnt          wheels  \\\n",
       "2529           1943            Automatic       4/5    Left wheel     \n",
       "9287           1941               Manual       2/3    Left wheel     \n",
       "21930          1943            Automatic       4/5    Left wheel     \n",
       "30042          1940               Manual       4/5    Left wheel     \n",
       "\n",
       "      vehicle_color vehicle_interior_color  car_leather_interior deal_type  \\\n",
       "2529          White                    Red                     1  For Sale   \n",
       "9287          Brown                  Black                     0  For Sale   \n",
       "21930         White                    Red                     1  For Sale   \n",
       "30042         Black                  Black                     0  For Sale   \n",
       "\n",
       "       final_price  \n",
       "2529       38000.0  \n",
       "9287       15500.0  \n",
       "21930      38000.0  \n",
       "30042      65000.0  "
      ]
     },
     "execution_count": 45,
     "metadata": {},
     "output_type": "execute_result"
    }
   ],
   "source": [
    "df_sale[df_sale['vehicle_year'] < 1950]"
   ]
  },
  {
   "cell_type": "markdown",
   "metadata": {},
   "source": [
    "Давайте всё-таки удалим значения, похожие на выбросы:\n",
    "- три записи, где цена больше 100К;\n",
    "- четыре записи, где год выпуска раньше 1950-го."
   ]
  },
  {
   "cell_type": "code",
   "execution_count": 46,
   "metadata": {},
   "outputs": [],
   "source": [
    "df = df[df['final_price'] <= 1e+5]\n",
    "df = df[df['vehicle_year'] >= 1950]"
   ]
  },
  {
   "cell_type": "markdown",
   "metadata": {},
   "source": [
    "***\n",
    "### Преобразование и кодирование признаков."
   ]
  },
  {
   "cell_type": "markdown",
   "metadata": {},
   "source": [
    "Преобразуем признак ***vehicle_year*** в признак возраста:"
   ]
  },
  {
   "cell_type": "code",
   "execution_count": 47,
   "metadata": {},
   "outputs": [],
   "source": [
    "# датасет был составлен в 2020 году\n",
    "df['age'] = current_year - df['vehicle_year']\n",
    "df = df.drop('vehicle_year', axis=1)"
   ]
  },
  {
   "cell_type": "markdown",
   "metadata": {},
   "source": [
    "Преобразуем признак ***vehicle_manufacturer***  в признак страна-производитель:"
   ]
  },
  {
   "cell_type": "code",
   "execution_count": 48,
   "metadata": {},
   "outputs": [],
   "source": [
    "def country_manufacturer(manufacturer):\n",
    "    if manufacturer in ['TOYOTA','LEXUS','HONDA','NISSAN','SUBARU','MITSUBISHI','MAZDA','SUZUKI','ISUZU','ACURA','INFINITI']:\n",
    "        return 'Japan'\n",
    "    elif manufacturer in ['MERCEDES-BENZ','BMW','VOLKSWAGEN','PORSCHE','AUDI','OPEL']:\n",
    "        return 'Germany'\n",
    "    elif manufacturer in ['FORD','CHEVROLET','CADILLAC','TESLA','HUMMER','CHRYSLER','BUICK','JEEP','MERCURY','GMC','LINCOLN','DODGE']:\n",
    "        return 'USA'\n",
    "    elif manufacturer in ['HYUNDAI','KIA','SSANGYONG','DAEWOO']:\n",
    "        return 'Korea'\n",
    "    elif manufacturer in ['VAZ','GAZ','UAZ','MOSKVICH','ZAZ']:\n",
    "        return 'Russia'\n",
    "    elif manufacturer in ['FIAT','ALFA ROMEO','FERRARI','LANCIA','MASERATI','LAMBORGHINI']:\n",
    "        return 'Italia'\n",
    "    elif manufacturer in ['MINI','LAND ROVER','BENTLEY','JAGUAR','ROLLS-ROYCE','ASTON MARTIN']:\n",
    "        return 'UK'\n",
    "    elif manufacturer in ['RENAULT','PEUGEOT','CITROEN']:\n",
    "        return 'France'      \n",
    "    else:\n",
    "        return 'Other'\n",
    "        \n",
    "df['country'] = df['vehicle_manufacturer'].apply(country_manufacturer)\n",
    "df = df.drop('vehicle_manufacturer', axis=1)"
   ]
  },
  {
   "cell_type": "markdown",
   "metadata": {},
   "source": [
    "Переведём признак ***wheels*** в бинарный:"
   ]
  },
  {
   "cell_type": "code",
   "execution_count": 49,
   "metadata": {},
   "outputs": [],
   "source": [
    "df['wheels'] = df['wheels'].apply(lambda x: 1 if x=='Left wheel' else 0)"
   ]
  },
  {
   "cell_type": "markdown",
   "metadata": {},
   "source": [
    "Закодируем часть признаков с помощью однократного кодирования:"
   ]
  },
  {
   "cell_type": "code",
   "execution_count": 50,
   "metadata": {},
   "outputs": [],
   "source": [
    "# сбросим индексы\n",
    "df = df.reset_index()\n",
    "\n",
    "cols_to_code = ['vehicle_category', 'vehicle_gearbox_type', 'doors_cnt', 'vehicle_color', 'vehicle_interior_color', 'country']\n",
    "\n",
    "one_encoder = OneHotEncoder(sparse=False, dtype=int)\n",
    "df_coded = one_encoder.fit_transform(df[cols_to_code])\n",
    "\n",
    "df_coded = pd.DataFrame(df_coded, columns=one_encoder.get_feature_names_out(cols_to_code))\n",
    "df = df.drop(cols_to_code, axis=1)\n",
    "\n",
    "df = pd.concat([df, df_coded], axis=1)"
   ]
  },
  {
   "cell_type": "markdown",
   "metadata": {},
   "source": [
    "Закодируем модели автомобилей:"
   ]
  },
  {
   "cell_type": "code",
   "execution_count": 51,
   "metadata": {},
   "outputs": [],
   "source": [
    "encoder_or = ce.OrdinalEncoder()\n",
    "df_ordinal = encoder_or.fit_transform(df['vehicle_model'])\n",
    "df = df.drop('vehicle_model', axis = 1)\n",
    "df = pd.concat([df, df_ordinal], axis=1)"
   ]
  },
  {
   "cell_type": "markdown",
   "metadata": {},
   "source": [
    "Проверим признаки на мультиколлинеарность:"
   ]
  },
  {
   "cell_type": "code",
   "execution_count": 52,
   "metadata": {},
   "outputs": [
    {
     "data": {
      "text/html": [
       "<div>\n",
       "<style scoped>\n",
       "    .dataframe tbody tr th:only-of-type {\n",
       "        vertical-align: middle;\n",
       "    }\n",
       "\n",
       "    .dataframe tbody tr th {\n",
       "        vertical-align: top;\n",
       "    }\n",
       "\n",
       "    .dataframe thead th {\n",
       "        text-align: right;\n",
       "    }\n",
       "</style>\n",
       "<table border=\"1\" class=\"dataframe\">\n",
       "  <thead>\n",
       "    <tr style=\"text-align: right;\">\n",
       "      <th></th>\n",
       "      <th>pair</th>\n",
       "      <th>corr_with_target_1</th>\n",
       "      <th>corr_with_target_2</th>\n",
       "    </tr>\n",
       "  </thead>\n",
       "  <tbody>\n",
       "    <tr>\n",
       "      <th>0</th>\n",
       "      <td>doors_cnt_ 4/5-doors_cnt_ 2/3=0.916</td>\n",
       "      <td>doors_cnt_ 4/5=0.005</td>\n",
       "      <td>doors_cnt_ 2/3=-0.014</td>\n",
       "    </tr>\n",
       "  </tbody>\n",
       "</table>\n",
       "</div>"
      ],
      "text/plain": [
       "                                  pair    corr_with_target_1  \\\n",
       "0  doors_cnt_ 4/5-doors_cnt_ 2/3=0.916  doors_cnt_ 4/5=0.005   \n",
       "\n",
       "      corr_with_target_2  \n",
       "0  doors_cnt_ 2/3=-0.014  "
      ]
     },
     "execution_count": 52,
     "metadata": {},
     "output_type": "execute_result"
    }
   ],
   "source": [
    "corr_matrix = round(df.corr(), 3)\n",
    "corr_matrix_check(corr_matrix, 'final_price', thresh=0.8)"
   ]
  },
  {
   "cell_type": "markdown",
   "metadata": {},
   "source": [
    "Удалим признак ***doors_cnt_ 4/5***:"
   ]
  },
  {
   "cell_type": "code",
   "execution_count": 53,
   "metadata": {},
   "outputs": [],
   "source": [
    "df = df.drop('doors_cnt_ 4/5', axis=1)"
   ]
  },
  {
   "cell_type": "markdown",
   "metadata": {},
   "source": [
    "***\n",
    "### Подготовка к моделированию."
   ]
  },
  {
   "cell_type": "markdown",
   "metadata": {},
   "source": [
    "Скопируем наш датасет:"
   ]
  },
  {
   "cell_type": "code",
   "execution_count": 54,
   "metadata": {},
   "outputs": [],
   "source": [
    "df_t = df.copy()\n",
    "\n",
    "# сохраним оригинальный индекс в отдельный Series\n",
    "index_correct = df_t['index']\n",
    "df_t = df_t.drop('index', axis=1)"
   ]
  },
  {
   "cell_type": "markdown",
   "metadata": {},
   "source": [
    "Разделим датасет на продажи и аренду:"
   ]
  },
  {
   "cell_type": "code",
   "execution_count": 55,
   "metadata": {},
   "outputs": [],
   "source": [
    "df_sale = df_t[df_t.deal_type == 'For Sale']\n",
    "df_rent = df_t[df_t.deal_type == 'For Rent']\n",
    "\n",
    "df_sale = df_sale.drop('deal_type', axis=1)\n",
    "df_rent = df_rent.drop('deal_type', axis=1)"
   ]
  },
  {
   "cell_type": "markdown",
   "metadata": {},
   "source": [
    "Разделим полученные датасеты на обучающие и тестовые выборки:"
   ]
  },
  {
   "cell_type": "code",
   "execution_count": 56,
   "metadata": {},
   "outputs": [],
   "source": [
    "y_sale = df_sale['final_price']\n",
    "X_sale = df_sale.drop('final_price', axis=1)\n",
    "\n",
    "y_rent = df_rent['final_price']\n",
    "X_rent = df_rent.drop('final_price', axis=1)\n",
    "\n",
    "X_train_sale, X_test_sale, y_train_sale, y_test_sale = train_test_split(X_sale, y_sale, test_size=0.2, random_state=random_state)\n",
    "X_train_rent, X_test_rent, y_train_rent, y_test_rent = train_test_split(X_rent, y_rent, test_size=0.2, random_state=random_state)"
   ]
  },
  {
   "cell_type": "markdown",
   "metadata": {},
   "source": [
    "Теперь построим модели для каждой выборки.\n",
    "\n",
    "Модель для продаж:"
   ]
  },
  {
   "cell_type": "code",
   "execution_count": 57,
   "metadata": {},
   "outputs": [
    {
     "data": {
      "application/vnd.jupyter.widget-view+json": {
       "model_id": "5e9bb29c65ac4d3598c3c09b2ea2e184",
       "version_major": 2,
       "version_minor": 0
      },
      "text/plain": [
       "MetricVisualizer(layout=Layout(align_self='stretch', height='500px'))"
      ]
     },
     "metadata": {},
     "output_type": "display_data"
    },
    {
     "data": {
      "text/plain": [
       "<catboost.core.CatBoostRegressor at 0x118b511eec0>"
      ]
     },
     "execution_count": 57,
     "metadata": {},
     "output_type": "execute_result"
    }
   ],
   "source": [
    "model_sale=CatBoostRegressor(\n",
    "    eval_metric='MAE',\n",
    "    iterations=1.5e+4,\n",
    "    random_seed=random_state,\n",
    "    learning_rate=0.03,\n",
    "    depth=10,\n",
    "    early_stopping_rounds=100)\n",
    "model_sale.fit(\n",
    "    X_train_sale, y_train_sale,\n",
    "    eval_set=(X_test_sale, y_test_sale),\n",
    "    verbose=False,\n",
    "    plot=True\n",
    ")"
   ]
  },
  {
   "cell_type": "markdown",
   "metadata": {},
   "source": [
    "Модель для аренды:"
   ]
  },
  {
   "cell_type": "code",
   "execution_count": 58,
   "metadata": {},
   "outputs": [
    {
     "data": {
      "application/vnd.jupyter.widget-view+json": {
       "model_id": "b294ee648e904a50892183d86d9cbde1",
       "version_major": 2,
       "version_minor": 0
      },
      "text/plain": [
       "MetricVisualizer(layout=Layout(align_self='stretch', height='500px'))"
      ]
     },
     "metadata": {},
     "output_type": "display_data"
    },
    {
     "data": {
      "text/plain": [
       "<catboost.core.CatBoostRegressor at 0x118b403ac80>"
      ]
     },
     "execution_count": 58,
     "metadata": {},
     "output_type": "execute_result"
    }
   ],
   "source": [
    "model_rent=CatBoostRegressor(\n",
    "    eval_metric='MAE',\n",
    "    iterations=10000,\n",
    "    random_seed=random_state,\n",
    "    #learning_rate=0.02,\n",
    "    #depth=10,\n",
    "    early_stopping_rounds=100)\n",
    "model_rent.fit(\n",
    "    X_train_rent, y_train_rent,\n",
    "    eval_set=(X_test_rent, y_test_rent),\n",
    "    verbose=False,\n",
    "    plot=True\n",
    ")"
   ]
  },
  {
   "cell_type": "markdown",
   "metadata": {},
   "source": [
    "Соберём ответы воедино и посчитаем финальную метрику:"
   ]
  },
  {
   "cell_type": "code",
   "execution_count": 59,
   "metadata": {},
   "outputs": [],
   "source": [
    "y_test_sale_pred = model_sale.predict(X_test_sale)\n",
    "y_test_rent_pred = model_rent.predict(X_test_rent)\n",
    "\n",
    "y_test_sale_pred = pd.Series(y_test_sale_pred)\n",
    "y_test_rent_pred = pd.Series(y_test_rent_pred)\n",
    "\n",
    "y_test = pd.concat([y_test_sale, y_test_rent], axis=0)\n",
    "y_test_pred = pd.concat([y_test_sale_pred, y_test_rent_pred], axis=0)"
   ]
  },
  {
   "cell_type": "code",
   "execution_count": 60,
   "metadata": {},
   "outputs": [
    {
     "name": "stdout",
     "output_type": "stream",
     "text": [
      "Финальная MAE: 1525.201\n"
     ]
    }
   ],
   "source": [
    "mae_final = mean_absolute_error(y_test, y_test_pred)\n",
    "print(f'Финальная MAE: {mae_final:.3f}')"
   ]
  },
  {
   "cell_type": "markdown",
   "metadata": {},
   "source": [
    "Расчёт тестовой выборки для *Kaggle*:"
   ]
  },
  {
   "cell_type": "code",
   "execution_count": 61,
   "metadata": {},
   "outputs": [],
   "source": [
    "df_test = pd.read_csv('data/test_data.csv')\n",
    "\n",
    "# удалим ненужные столбцы\n",
    "row_id = df_test['row_ID']\n",
    "df_test = df_test.drop(['row_ID', 'car_vin'], axis=1)\n",
    "\n",
    "# цвет салона\n",
    "df_test['vehicle_interior_color'] = df_test['vehicle_interior_color'].str.strip()\n",
    "for k, v in color_dict_interior.items():\n",
    "    df_test['vehicle_interior_color'] = df_test['vehicle_interior_color'].map(lambda x: k if x in v else x)\n",
    "df_test['vehicle_interior_color'] = df_test['vehicle_interior_color'].fillna('Unknown')\n",
    "\n",
    "# цвет автомобиля\n",
    "df_test['vehicle_color'] = df_test['vehicle_color'].str.strip()\n",
    "for k, v in color_dict_vehicle.items():\n",
    "    df_test['vehicle_color'] = df_test['vehicle_color'].map(lambda x: k if x in v else x)\n",
    "df_test['vehicle_color'] = df_test['vehicle_color'].fillna('Unknown')\n",
    "\n",
    "# количество дверей\n",
    "df_test['vehicle_model'] = df_test['vehicle_model'].str.lower()\n",
    "mask = df_test['doors_cnt'].isna()\n",
    "models_to_fix = df_test.loc[mask, 'vehicle_model'].unique()\n",
    "for model in models_to_fix:    \n",
    "    mask_ = df_test['vehicle_model'] == model\n",
    "    if df_test.loc[mask_, 'doors_cnt'].nunique() != 0:\n",
    "        # возьмем количество дверей у самой распространенной модели\n",
    "        models_dict[model] = df_test.loc[mask_, 'doors_cnt'].value_counts().sort_values(ascending=False).index[0]\n",
    "    else:\n",
    "        # если модель единственная, берём модальным значение\n",
    "        models_dict[model] = df_test['doors_cnt'].mode()[0]\n",
    "df_test.loc[mask, 'doors_cnt'] = df_test.loc[mask, 'vehicle_model'].map(models_dict)\n",
    "\n",
    "# производитель\n",
    "for manufacturer in manufacturer_list:\n",
    "    mask_ = df_test.vehicle_manufacturer == manufacturer\n",
    "    # сделаем через try-except, поскольку не у всех есть модальное значение\n",
    "    try:\n",
    "        mode_ = df_test.loc[mask_, 'vehicle_model'].mode()[0]\n",
    "    except:\n",
    "        mode_ = 'unknown'\n",
    "    df_test.loc[mask_, 'vehicle_model'] = df_test.loc[mask_, 'vehicle_model'].fillna(mode_)\n",
    "\n",
    "# остальные пропуски заполним модальными значениями\n",
    "df_test['vehicle_manufacturer'] = df_test['vehicle_manufacturer'].fillna(df_test['vehicle_manufacturer'].mode()[0])\n",
    "df_test['vehicle_model'] = df_test['vehicle_model'].fillna(df_test['vehicle_model'].mode()[0])\n",
    "df_test['vehicle_category'] = df_test['vehicle_category'].fillna(df_test['vehicle_category'].mode()[0])\n",
    "df_test['vehicle_gearbox_type'] = df_test['vehicle_gearbox_type'].fillna(df_test['vehicle_gearbox_type'].mode()[0])\n",
    "df_test['wheels'] = df_test['wheels'].fillna(df_test['wheels'].mode()[0])\n",
    "\n",
    "# возраст и страна-производитель автомобиля \n",
    "df_test['age'] = current_year - df_test['vehicle_year']\n",
    "df_test['country'] = df_test['vehicle_manufacturer'].apply(country_manufacturer)\n",
    "df_test = df_test.drop(['vehicle_year', 'vehicle_manufacturer'], axis=1)\n",
    "\n",
    "# переводим признак wheels в бинарный\n",
    "df_test['wheels'] = df_test['wheels'].apply(lambda x: 1 if x=='Left wheel' else 0)\n",
    "\n",
    "# кодирование\n",
    "cols_to_code = ['vehicle_category', 'vehicle_gearbox_type', 'doors_cnt', 'vehicle_color', 'vehicle_interior_color', 'country']\n",
    "df_coded = one_encoder.transform(df_test[cols_to_code])\n",
    "df_coded = pd.DataFrame(df_coded, columns=one_encoder.get_feature_names_out(cols_to_code))\n",
    "df_test = df_test.drop(cols_to_code, axis=1)\n",
    "df_test = pd.concat([df_test, df_coded], axis=1)\n",
    "\n",
    "df_ordinal = encoder_or.transform(df_test['vehicle_model'])\n",
    "df_test = df_test.drop('vehicle_model', axis = 1)\n",
    "df_test = pd.concat([df_test, df_ordinal], axis=1)\n",
    "\n",
    "# удалим коррелирующий столбец\n",
    "df_test = df_test.drop('doors_cnt_ 4/5', axis=1)\n",
    "\n",
    "# разделим датасет на продажу и аренду\n",
    "df_test_sale = df_test[df_test.deal_type == 'For Sale']\n",
    "df_test_rent = df_test[df_test.deal_type == 'For Rent']\n",
    "df_test_sale = df_test_sale.drop('deal_type', axis=1)\n",
    "df_test_rent = df_test_rent.drop('deal_type', axis=1)\n",
    "\n",
    "# сделаем предсказания\n",
    "y_sale_pred = model_sale.predict(df_test_sale)\n",
    "y_rent_pred = model_rent.predict(df_test_rent)\n",
    "\n",
    "y_sale_pred = pd.Series(y_sale_pred, index=df_test_sale.index)\n",
    "y_rent_pred = pd.Series(y_rent_pred, index=df_test_rent.index)\n",
    "\n",
    "# запишем результат\n",
    "submission = pd.concat([y_sale_pred, y_rent_pred], axis=0)\n",
    "submission = submission.sort_index()\n",
    "submission = pd.concat([row_id, submission], axis=1)\n",
    "submission = submission.rename(columns={0:'final_price'})\n",
    "\n",
    "submission.to_csv('data/submission.csv', index=False)"
   ]
  }
 ],
 "metadata": {
  "kernelspec": {
   "display_name": "Python 3",
   "language": "python",
   "name": "python3"
  },
  "language_info": {
   "codemirror_mode": {
    "name": "ipython",
    "version": 3
   },
   "file_extension": ".py",
   "mimetype": "text/x-python",
   "name": "python",
   "nbconvert_exporter": "python",
   "pygments_lexer": "ipython3",
   "version": "3.10.11"
  },
  "orig_nbformat": 4
 },
 "nbformat": 4,
 "nbformat_minor": 2
}
